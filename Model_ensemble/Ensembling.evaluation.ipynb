{
 "cells": [
  {
   "cell_type": "code",
   "execution_count": 85,
   "metadata": {},
   "outputs": [],
   "source": [
    "import pandas as pd\n",
    "import numpy as np\n",
    "from sklearn.linear_model import LinearRegression,ElasticNet\n",
    "from sklearn.linear_model import Ridge\n",
    "import os\n",
    "import random\n",
    "import warnings\n",
    "warnings.filterwarnings(\"ignore\")"
   ]
  },
  {
   "cell_type": "code",
   "execution_count": 86,
   "metadata": {},
   "outputs": [],
   "source": [
    "### version control name\n",
    "version_control_name=\"1\""
   ]
  },
  {
   "cell_type": "markdown",
   "metadata": {},
   "source": [
    "### loading the pool of predictions"
   ]
  },
  {
   "cell_type": "code",
   "execution_count": 87,
   "metadata": {},
   "outputs": [],
   "source": [
    "def clean_path(path,target = '.csv'):\n",
    "    for s in path:\n",
    "        if s[-4:]!=target:\n",
    "            path.remove(s)\n",
    "    return path"
   ]
  },
  {
   "cell_type": "code",
   "execution_count": 88,
   "metadata": {},
   "outputs": [
    {
     "name": "stdout",
     "output_type": "stream",
     "text": [
      "stacking 17 files.\n"
     ]
    }
   ],
   "source": [
    "IS_path = \"../data/stacking_IS/\"\n",
    "OS_path = \"../data/stacking_OS/\"\n",
    "output_path = \"./stacking_outputs\"\n",
    "all_is_files = os.listdir(IS_path)\n",
    "all_os_files = os.listdir(OS_path)\n",
    "all_is_files = clean_path(all_is_files)\n",
    "all_os_files = clean_path(all_os_files)\n",
    "print(\"stacking \"+str(len(all_is_files))+\" files.\")"
   ]
  },
  {
   "cell_type": "code",
   "execution_count": 89,
   "metadata": {},
   "outputs": [
    {
     "name": "stdout",
     "output_type": "stream",
     "text": [
      "IS_prediction_cat_10,10.csv OS_prediction_cat_10,10.csv\n",
      "IS_prediction_cat_10,20.csv OS_prediction_cat_10,20.csv\n",
      "IS_prediction_cat_10,5.csv OS_prediction_cat_10,5.csv\n",
      "IS_prediction_cat_10,50.csv OS_prediction_cat_10,50.csv\n",
      "IS_prediction_cat_split_type_final.csv OS_prediction_cat_split_type_final.csv\n",
      "IS_prediction_cat_split_type_final2.csv OS_prediction_cat_split_type_final2.csv\n",
      "IS_prediction_dt_1.csv OS_prediction_dt_1.csv\n",
      "IS_prediction_lgb_10,100.csv OS_prediction_lgb_10,100.csv\n",
      "IS_prediction_lgb_10,20.csv OS_prediction_lgb_10,20.csv\n",
      "IS_prediction_lgb_10,40.csv OS_prediction_lgb_10,40.csv\n",
      "IS_prediction_lgb_10,60.csv OS_prediction_lgb_10,60.csv\n",
      "IS_prediction_lgb_split_type_final.csv OS_prediction_lgb_split_type_final.csv\n",
      "IS_prediction_xgb_10,20.csv OS_prediction_xgb_10,20.csv\n",
      "IS_prediction_xgb_10,40.csv OS_prediction_xgb_10,40.csv\n",
      "IS_prediction_xgb_10,60.csv OS_prediction_xgb_10,60.csv\n",
      "IS_prediction_xgb_split_type_final.csv OS_prediction_xgb_split_type_final.csv\n",
      "IS_randomforest_pred_1.csv OS_randomforest_pred_1.csv\n"
     ]
    }
   ],
   "source": [
    "all_is_files.sort()\n",
    "all_os_files.sort()\n",
    "for k in range(len(all_is_files)):\n",
    "    print(all_is_files[k],all_os_files[k])"
   ]
  },
  {
   "cell_type": "code",
   "execution_count": 90,
   "metadata": {},
   "outputs": [
    {
     "name": "stdout",
     "output_type": "stream",
     "text": [
      "17\n",
      "           stack_1   stack_2   stack_3   stack_4   stack_5   stack_6  \\\n",
      "stack_1   1.000000  0.992913  0.992966  0.992458  0.979258  0.973886   \n",
      "stack_2   0.992913  1.000000  0.992723  0.992464  0.979375  0.973701   \n",
      "stack_3   0.992966  0.992723  1.000000  0.992467  0.979669  0.974017   \n",
      "stack_4   0.992458  0.992464  0.992467  1.000000  0.981784  0.976144   \n",
      "stack_5   0.979258  0.979375  0.979669  0.981784  1.000000  0.988577   \n",
      "stack_6   0.973886  0.973701  0.974017  0.976144  0.988577  1.000000   \n",
      "stack_7   0.933028  0.932993  0.932969  0.933052  0.927365  0.924169   \n",
      "stack_8   0.967082  0.967191  0.967220  0.967627  0.964991  0.962681   \n",
      "stack_9   0.966367  0.966281  0.966577  0.966687  0.964904  0.962984   \n",
      "stack_10  0.967141  0.967206  0.967412  0.967556  0.965248  0.963048   \n",
      "stack_11  0.966001  0.965826  0.966016  0.966329  0.963979  0.961842   \n",
      "stack_12  0.964063  0.964009  0.964186  0.964455  0.969085  0.967390   \n",
      "stack_13  0.976608  0.976947  0.976977  0.977423  0.970812  0.966934   \n",
      "stack_14  0.978624  0.979045  0.979084  0.979455  0.970992  0.966622   \n",
      "stack_15  0.979368  0.979844  0.979831  0.980328  0.970609  0.965907   \n",
      "stack_16  0.971901  0.972051  0.972270  0.972578  0.974160  0.971420   \n",
      "stack_17  0.832434  0.833109  0.832092  0.833770  0.827155  0.823324   \n",
      "\n",
      "           stack_7   stack_8   stack_9  stack_10  stack_11  stack_12  \\\n",
      "stack_1   0.933028  0.967082  0.966367  0.967141  0.966001  0.964063   \n",
      "stack_2   0.932993  0.967191  0.966281  0.967206  0.965826  0.964009   \n",
      "stack_3   0.932969  0.967220  0.966577  0.967412  0.966016  0.964186   \n",
      "stack_4   0.933052  0.967627  0.966687  0.967556  0.966329  0.964455   \n",
      "stack_5   0.927365  0.964991  0.964904  0.965248  0.963979  0.969085   \n",
      "stack_6   0.924169  0.962681  0.962984  0.963048  0.961842  0.967390   \n",
      "stack_7   1.000000  0.930002  0.930301  0.930265  0.928821  0.929217   \n",
      "stack_8   0.930002  1.000000  0.989249  0.990836  0.991871  0.979149   \n",
      "stack_9   0.930301  0.989249  1.000000  0.990372  0.989807  0.982775   \n",
      "stack_10  0.930265  0.990836  0.990372  1.000000  0.991379  0.979785   \n",
      "stack_11  0.928821  0.991871  0.989807  0.991379  1.000000  0.979176   \n",
      "stack_12  0.929217  0.979149  0.982775  0.979785  0.979176  1.000000   \n",
      "stack_13  0.939600  0.978703  0.978619  0.979161  0.977656  0.974082   \n",
      "stack_14  0.939962  0.976544  0.975589  0.976811  0.975222  0.971737   \n",
      "stack_15  0.939879  0.974782  0.973299  0.974761  0.973394  0.969674   \n",
      "stack_16  0.934385  0.975014  0.974430  0.975153  0.973883  0.984631   \n",
      "stack_17  0.788346  0.805355  0.805269  0.805853  0.804288  0.806950   \n",
      "\n",
      "          stack_13  stack_14  stack_15  stack_16  stack_17  \n",
      "stack_1   0.976608  0.978624  0.979368  0.971901  0.832434  \n",
      "stack_2   0.976947  0.979045  0.979844  0.972051  0.833109  \n",
      "stack_3   0.976977  0.979084  0.979831  0.972270  0.832092  \n",
      "stack_4   0.977423  0.979455  0.980328  0.972578  0.833770  \n",
      "stack_5   0.970812  0.970992  0.970609  0.974160  0.827155  \n",
      "stack_6   0.966934  0.966622  0.965907  0.971420  0.823324  \n",
      "stack_7   0.939600  0.939962  0.939879  0.934385  0.788346  \n",
      "stack_8   0.978703  0.976544  0.974782  0.975014  0.805355  \n",
      "stack_9   0.978619  0.975589  0.973299  0.974430  0.805269  \n",
      "stack_10  0.979161  0.976811  0.974761  0.975153  0.805853  \n",
      "stack_11  0.977656  0.975222  0.973394  0.973883  0.804288  \n",
      "stack_12  0.974082  0.971737  0.969674  0.984631  0.806950  \n",
      "stack_13  1.000000  0.993057  0.991436  0.984317  0.820702  \n",
      "stack_14  0.993057  1.000000  0.994174  0.981721  0.824687  \n",
      "stack_15  0.991436  0.994174  1.000000  0.980344  0.826190  \n",
      "stack_16  0.984317  0.981721  0.980344  1.000000  0.818376  \n",
      "stack_17  0.820702  0.824687  0.826190  0.818376  1.000000  \n"
     ]
    }
   ],
   "source": [
    "concat_sub = pd.DataFrame([])\n",
    "\n",
    "for k in range(1,len(all_is_files)+1):\n",
    "    f = all_is_files[k-1]\n",
    "    out = pd.read_csv(os.path.join(IS_path, f))\n",
    "    out.columns=[\"stack_\"+str(k)]\n",
    "    concat_sub = pd.concat([concat_sub,out],axis = 1)\n",
    "\n",
    "print(concat_sub.shape[1])\n",
    "a = concat_sub.corr()\n",
    "print(a)"
   ]
  },
  {
   "cell_type": "code",
   "execution_count": 91,
   "metadata": {},
   "outputs": [],
   "source": [
    "import matplotlib.pyplot as plt"
   ]
  },
  {
   "cell_type": "code",
   "execution_count": 92,
   "metadata": {},
   "outputs": [
    {
     "data": {
      "image/png": "[encoded data removed]",
      "text/plain": [
       "<Figure size 432x288 with 1 Axes>"
      ]
     },
     "metadata": {
      "needs_background": "light"
     },
     "output_type": "display_data"
    }
   ],
   "source": [
    "a = np.array(a).flatten()\n",
    "plt.hist(a[abs(a)<1],bins=100,density=1)\n",
    "plt.xlabel(\"correlation\")\n",
    "plt.ylabel(\"frequency\")\n",
    "plt.title(\"Histogram of the correlations of different predictions \")\n",
    "plt.show()"
   ]
  },
  {
   "cell_type": "code",
   "execution_count": 93,
   "metadata": {},
   "outputs": [
    {
     "name": "stdout",
     "output_type": "stream",
     "text": [
      "17\n"
     ]
    }
   ],
   "source": [
    "concat_os = pd.DataFrame([])\n",
    "\n",
    "for k in range(1,len(all_os_files)+1):\n",
    "    f = all_os_files[k-1]\n",
    "    out = pd.read_csv(os.path.join(OS_path, f))\n",
    "    out.columns=[\"stack_\"+str(k)]\n",
    "    concat_os = pd.concat([concat_os,out],axis = 1)\n",
    "\n",
    "n = concat_os.shape[1]\n",
    "print(n)"
   ]
  },
  {
   "cell_type": "markdown",
   "metadata": {},
   "source": [
    "### loading evaluation tools"
   ]
  },
  {
   "cell_type": "code",
   "execution_count": 94,
   "metadata": {},
   "outputs": [],
   "source": [
    "def MAE_relative(y,pred):# assume input as arrays\n",
    "    return abs(1-pred/y).mean()\n",
    "\n",
    "data_IS=pd.read_csv(\"../data/IS/data_encoded_IS.csv\")\n",
    "IS_true_price=np.array(data_IS[\"price\"])\n",
    "data_OS = pd.read_csv(\"../data/OS/data_encoded_OS.csv\")\n",
    "OS_true_price = np.array(data_OS[\"price\"])"
   ]
  },
  {
   "cell_type": "markdown",
   "metadata": {},
   "source": [
    "#### Evaluate single prediction"
   ]
  },
  {
   "cell_type": "code",
   "execution_count": 95,
   "metadata": {},
   "outputs": [
    {
     "name": "stdout",
     "output_type": "stream",
     "text": [
      "stack_1 , OS_prediction_cat_10,10.csv :IS 0.2386 , OS 0.2469\n",
      "stack_2 , OS_prediction_cat_10,20.csv :IS 0.2384 , OS 0.2464\n",
      "stack_3 , OS_prediction_cat_10,5.csv :IS 0.2384 , OS 0.2461\n",
      "stack_4 , OS_prediction_cat_10,50.csv :IS 0.238 , OS 0.2468\n",
      "stack_5 , OS_prediction_cat_split_type_final.csv :IS 0.2345 , OS 0.2365\n",
      "stack_6 , OS_prediction_cat_split_type_final2.csv :IS 0.2332 , OS 0.2352\n",
      "stack_7 , OS_prediction_dt_1.csv :IS 0.3103 , OS 0.2727\n",
      "stack_8 , OS_prediction_lgb_10,100.csv :IS 0.2593 , OS 0.2606\n",
      "stack_9 , OS_prediction_lgb_10,20.csv :IS 0.2529 , OS 0.2528\n",
      "stack_10 , OS_prediction_lgb_10,40.csv :IS 0.2569 , OS 0.2563\n",
      "stack_11 , OS_prediction_lgb_10,60.csv :IS 0.2578 , OS 0.2578\n",
      "stack_12 , OS_prediction_lgb_split_type_final.csv :IS 0.255 , OS 0.2532\n",
      "stack_13 , OS_prediction_xgb_10,20.csv :IS 0.2636 , OS 0.2701\n",
      "stack_14 , OS_prediction_xgb_10,40.csv :IS 0.2701 , OS 0.2774\n",
      "stack_15 , OS_prediction_xgb_10,60.csv :IS 0.2733 , OS 0.2803\n",
      "stack_16 , OS_prediction_xgb_split_type_final.csv :IS 0.2675 , OS 0.2672\n",
      "stack_17 , OS_randomforest_pred_1.csv :IS 0.3323 , OS 0.3589\n"
     ]
    }
   ],
   "source": [
    "IS_error = []\n",
    "for k in range(1,n+1):\n",
    "    s = \"stack_\"+str(k)\n",
    "    is_error = MAE_relative(IS_true_price,np.array(concat_sub[s]))\n",
    "    IS_error.append(is_error)\n",
    "    os_error = MAE_relative(OS_true_price,np.array(concat_os[s]))\n",
    "    print(s,\",\",all_os_files[k-1],\":IS\",round(is_error,4),\", OS\",round(os_error,4))"
   ]
  },
  {
   "cell_type": "markdown",
   "metadata": {},
   "source": [
    "### Simple ensembling"
   ]
  },
  {
   "cell_type": "markdown",
   "metadata": {},
   "source": [
    "#### simple averaging"
   ]
  },
  {
   "cell_type": "code",
   "execution_count": 96,
   "metadata": {},
   "outputs": [],
   "source": [
    "concat_sub[\"stacking_mean\"] = concat_sub.mean(axis=1)\n",
    "concat_os[\"stacking_mean\"] = concat_os.mean(axis=1)\n",
    "concat_sub[\"stacking_mean\"].to_csv(f'{output_path}/stacking_mean_IS_'+version_control_name+\".csv\",index=False)\n",
    "concat_os[\"stacking_mean\"].to_csv(f'{output_path}/stacking_mean_OS_'+version_control_name+\".csv\",index=False)"
   ]
  },
  {
   "cell_type": "code",
   "execution_count": 97,
   "metadata": {},
   "outputs": [
    {
     "name": "stdout",
     "output_type": "stream",
     "text": [
      "IS Evaluation: 0.23284212708965205\n",
      "OS Evaluation: 0.24540790409153276\n"
     ]
    }
   ],
   "source": [
    "print(\"IS Evaluation:\",MAE_relative(IS_true_price,np.array(concat_sub[\"stacking_mean\"])))\n",
    "print(\"OS Evaluation:\",MAE_relative(OS_true_price,np.array(concat_os[\"stacking_mean\"])))"
   ]
  },
  {
   "cell_type": "markdown",
   "metadata": {},
   "source": [
    "#### median"
   ]
  },
  {
   "cell_type": "code",
   "execution_count": 98,
   "metadata": {},
   "outputs": [],
   "source": [
    "concat_sub[\"stacking_median\"] = concat_sub.median(axis=1)\n",
    "concat_os[\"stacking_median\"] = concat_os.median(axis=1)\n",
    "concat_sub[\"stacking_median\"].to_csv(f'{output_path}/stacking_median_IS_'+version_control_name+\".csv\",index=False)\n",
    "concat_os[\"stacking_median\"].to_csv(f'{output_path}/stacking_median_OS_'+version_control_name+\".csv\",index=False)"
   ]
  },
  {
   "cell_type": "code",
   "execution_count": 99,
   "metadata": {},
   "outputs": [
    {
     "name": "stdout",
     "output_type": "stream",
     "text": [
      "IS Evaluation: 0.22806327473878704\n",
      "OS Evaluation: 0.2433906259760422\n"
     ]
    }
   ],
   "source": [
    "print(\"IS Evaluation:\",MAE_relative(IS_true_price,np.array(concat_sub[\"stacking_median\"])))\n",
    "print(\"OS Evaluation:\",MAE_relative(OS_true_price,np.array(concat_os[\"stacking_median\"])))"
   ]
  },
  {
   "cell_type": "markdown",
   "metadata": {},
   "source": [
    "#### weighted averaging (based on IS error)"
   ]
  },
  {
   "cell_type": "code",
   "execution_count": 102,
   "metadata": {},
   "outputs": [],
   "source": [
    "weights=1/np.array(IS_error)\n",
    "is_weighted_average_pred = np.dot(np.array(concat_sub.iloc[:,range(len(all_os_files))]),weights.reshape(len(weights),1)).sum(axis=1)/weights.sum()\n",
    "concat_sub[\"stacking_weighted_average\"] = is_weighted_average_pred\n",
    "os_weighted_average_pred = np.dot(np.array(concat_os.iloc[:,range(len(all_os_files))]),weights.reshape(len(weights),1)).sum(axis=1)/weights.sum()\n",
    "concat_os[\"stacking_weighted_average\"] = os_weighted_average_pred\n",
    "concat_sub[\"stacking_weighted_average\"].to_csv(f'{output_path}/stacking_weighted_average_IS_'+version_control_name+\".csv\",index=False)\n",
    "concat_os[\"stacking_weighted_average\"].to_csv(f'{output_path}/stacking_weighted_average_OS_'+version_control_name+\".csv\",index=False)"
   ]
  },
  {
   "cell_type": "code",
   "execution_count": 103,
   "metadata": {},
   "outputs": [
    {
     "name": "stdout",
     "output_type": "stream",
     "text": [
      "IS Evaluation: 0.23202786987343954\n",
      "OS Evaluation: 0.24464044721939687\n"
     ]
    }
   ],
   "source": [
    "print(\"IS Evaluation:\",MAE_relative(IS_true_price,np.array(concat_sub[\"stacking_weighted_average\"])))\n",
    "print(\"OS Evaluation:\",MAE_relative(OS_true_price,np.array(concat_os[\"stacking_weighted_average\"])))"
   ]
  },
  {
   "cell_type": "markdown",
   "metadata": {},
   "source": [
    "### Stack with linear model"
   ]
  },
  {
   "cell_type": "code",
   "execution_count": 104,
   "metadata": {},
   "outputs": [
    {
     "name": "stdout",
     "output_type": "stream",
     "text": [
      "210358\n",
      "210357\n"
     ]
    }
   ],
   "source": [
    "train_proportion = 0.5\n",
    "\n",
    "index_list=[i for i in range(len(concat_sub))]\n",
    "\n",
    "random.shuffle(index_list)\n",
    "train_list=index_list[:round(len(concat_sub)*train_proportion)]\n",
    "test_list=index_list[round(len(concat_sub)*train_proportion):]\n",
    "\n",
    "# the following variable records the features of examples in the training set\n",
    "x_is_train= np.array(concat_sub.iloc[train_list,range(n)])\n",
    "# the following variable records the features of examples in the test set\n",
    "x_is_cv= np.array(concat_sub.iloc[test_list,range(n)])\n",
    "# the following variable records the labels of examples in the training set\n",
    "y_is_train=IS_true_price[train_list]\n",
    "# the following variable records the labels of examples in the test set\n",
    "y_is_cv=IS_true_price[test_list]\n",
    "print(len(x_is_train))\n",
    "print(len(x_is_cv))"
   ]
  },
  {
   "cell_type": "markdown",
   "metadata": {},
   "source": [
    "#### Ridge Regression"
   ]
  },
  {
   "cell_type": "code",
   "execution_count": 105,
   "metadata": {},
   "outputs": [
    {
     "name": "stdout",
     "output_type": "stream",
     "text": [
      "coef: [-0.0522548   0.03550283 -0.02546687 -0.08175744  0.09842645  0.19160913\n",
      "  0.07933581  0.0750583   0.14926986  0.04894111  0.09556859  0.23400851\n",
      "  0.22317413  0.02966876 -0.05017236 -0.04453015  0.00407207]\n",
      "intercept: -129.2067214394374\n",
      "Train relative error: 0.2305\n",
      "Test relative error: 0.2304\n",
      "Out-of-sample relative error: 0.2394\n"
     ]
    }
   ],
   "source": [
    "model_ridge=Ridge(alpha=5,fit_intercept=True)\n",
    "model_ridge.fit(x_is_train,y_is_train)\n",
    "print(\"coef:\",np.array(model_ridge.coef_))\n",
    "print(\"intercept:\",np.array(model_ridge.intercept_))\n",
    "train_pred = model_ridge.predict(x_is_train)\n",
    "test_pred = model_ridge.predict(x_is_cv)\n",
    "os_pred = model_ridge.predict(np.array(concat_os.iloc[:,range(n)]))\n",
    "train_mae = MAE_relative(y_is_train,train_pred)\n",
    "test_mae = MAE_relative(y_is_cv,test_pred)\n",
    "os_mae = MAE_relative(OS_true_price,os_pred)\n",
    "\n",
    "concat_sub[\"stacking_ridge_regr\"] = -1\n",
    "concat_sub[\"stacking_ridge_regr\"].iloc[train_list] = train_pred\n",
    "concat_sub[\"stacking_ridge_regr\"].iloc[test_list] = test_pred\n",
    "concat_os[\"stacking_ridge_regr\"] = os_pred\n",
    "concat_sub[\"stacking_ridge_regr\"].to_csv(f'{output_path}/stacking_ridge_regr_IS_'+version_control_name+\".csv\",index=False)\n",
    "concat_os[\"stacking_ridge_regr\"].to_csv(f'{output_path}/stacking_ridge_regr_OS_'+version_control_name+\".csv\",index=False)\n",
    "\n",
    "print(\"Train relative error:\",round(train_mae,4))\n",
    "print(\"Test relative error:\",round(test_mae,4))\n",
    "print(\"Out-of-sample relative error:\",round(os_mae,4))"
   ]
  },
  {
   "cell_type": "markdown",
   "metadata": {},
   "source": [
    "#### Elastic Net"
   ]
  },
  {
   "cell_type": "code",
   "execution_count": 106,
   "metadata": {},
   "outputs": [
    {
     "name": "stdout",
     "output_type": "stream",
     "text": [
      "coef: [-0.05262902  0.03512144 -0.02522358 -0.0813945   0.09850197  0.19161928\n",
      "  0.07933759  0.07485117  0.14863358  0.04880966  0.09605117  0.23435372\n",
      "  0.22354289  0.02983651 -0.05026212 -0.04476596  0.00406905]\n",
      "intercept -129.2182449941556\n",
      "Train relative error: 0.2305\n",
      "Test relative error: 0.2304\n",
      "Out-of-sample relative error: 0.2394\n"
     ]
    }
   ],
   "source": [
    "regr = ElasticNet(l1_ratio=0.3, alpha=1)\n",
    "regr.fit(x_is_train, y_is_train)\n",
    "print(\"coef:\",regr.coef_)\n",
    "print(\"intercept\",regr.intercept_)\n",
    "train_pred = regr.predict(x_is_train)\n",
    "test_pred = regr.predict(x_is_cv)\n",
    "os_pred = regr.predict(np.array(concat_os.iloc[:,range(n)]))\n",
    "train_mae = MAE_relative(y_is_train,train_pred)\n",
    "cv_mae = MAE_relative(y_is_cv,test_pred)\n",
    "os_mae = MAE_relative(OS_true_price,os_pred)\n",
    "\n",
    "concat_sub[\"stacking_elastic_net_regr\"] = -1\n",
    "concat_sub[\"stacking_elastic_net_regr\"].iloc[train_list] = train_pred\n",
    "concat_sub[\"stacking_elastic_net_regr\"].iloc[test_list] = test_pred\n",
    "concat_os[\"stacking_elastic_net_regr\"] = os_pred\n",
    "concat_sub[\"stacking_elastic_net_regr\"].to_csv(f'{output_path}/stacking_ridge_regr_IS_'+version_control_name+\".csv\",index=False)\n",
    "concat_os[\"stacking_elastic_net_regr\"].to_csv(f'{output_path}/stacking_ridge_regr_OS_'+version_control_name+\".csv\",index=False)\n",
    "\n",
    "\n",
    "print(\"Train relative error:\",round(train_mae,4))\n",
    "print(\"Test relative error:\",round(test_mae,4))\n",
    "print(\"Out-of-sample relative error:\",round(os_mae,4))"
   ]
  },
  {
   "cell_type": "markdown",
   "metadata": {},
   "source": [
    "### Evaluate on clean samples"
   ]
  },
  {
   "cell_type": "code",
   "execution_count": 107,
   "metadata": {},
   "outputs": [
    {
     "name": "stdout",
     "output_type": "stream",
     "text": [
      "stacking_mean : 0.20189018173572623\n",
      "stacking_median : 0.20008881934935693\n",
      "stacking_weighted_average : 0.2012766806488203\n",
      "stacking_ridge_regr : 0.193375244741408\n",
      "stacking_elastic_net_regr : 0.19337716442982228\n"
     ]
    }
   ],
   "source": [
    "data_OS_clean = data_OS.dropna(how=\"any\")\n",
    "OS_true_price_clean = np.array(data_OS_clean[\"price\"])\n",
    "\n",
    "for j in range(n,len(concat_os.columns)):\n",
    "    clean_err = MAE_relative(OS_true_price_clean,np.array(concat_os.iloc[data_OS_clean.index,j]))\n",
    "    print(concat_os.columns[j],\":\",clean_err)"
   ]
  },
  {
   "cell_type": "code",
   "execution_count": null,
   "metadata": {},
   "outputs": [],
   "source": []
  },
  {
   "cell_type": "code",
   "execution_count": 100,
   "metadata": {},
   "outputs": [],
   "source": [
    "import matplotlib.pyplot as plt"
   ]
  },
  {
   "cell_type": "code",
   "execution_count": 108,
   "metadata": {},
   "outputs": [
    {
     "data": {
      "image/png": "[encoded data removed]",
      "text/plain": [
       "<Figure size 432x288 with 1 Axes>"
      ]
     },
     "metadata": {
      "needs_background": "light"
     },
     "output_type": "display_data"
    }
   ],
   "source": [
    "error_seq = 1-np.array(concat_sub[\"stacking_median\"])/IS_true_price\n",
    "plt.hist(error_seq[abs(error_seq)<1],bins=50,density=1)\n",
    "plt.xlabel(\"relative error\")\n",
    "plt.ylabel(\"frequency\")\n",
    "plt.title(\"Histogram of testing relative error of Stacking using Median\")\n",
    "plt.show()"
   ]
  },
  {
   "cell_type": "code",
   "execution_count": 110,
   "metadata": {},
   "outputs": [
    {
     "data": {
      "image/png": "[encoded data removed]",
      "text/plain": [
       "<Figure size 432x288 with 1 Axes>"
      ]
     },
     "metadata": {
      "needs_background": "light"
     },
     "output_type": "display_data"
    }
   ],
   "source": [
    "error_seq = 1-np.array(concat_os[\"stacking_median\"])/OS_true_price\n",
    "plt.hist(error_seq[abs(error_seq)<1],bins=50,density=1)\n",
    "plt.xlabel(\"relative error\")\n",
    "plt.ylabel(\"frequency\")\n",
    "plt.title(\"Histogram of out-of-sample relative error of Stacking using Median\")\n",
    "plt.show()"
   ]
  },
  {
   "cell_type": "code",
   "execution_count": 113,
   "metadata": {},
   "outputs": [
    {
     "data": {
      "image/png": "[encoded data removed]",
      "text/plain": [
       "<Figure size 432x288 with 1 Axes>"
      ]
     },
     "metadata": {
      "needs_background": "light"
     },
     "output_type": "display_data"
    }
   ],
   "source": [
    "error_seq = 1-np.array(concat_os.iloc[data_OS_clean.index,j])/OS_true_price_clean\n",
    "plt.hist(error_seq[abs(error_seq)<1],bins=50,density=1)\n",
    "plt.xlabel(\"relative error\")\n",
    "plt.ylabel(\"frequency\")\n",
    "plt.title(\"Histogram of out-of-sample relative errors\")\n",
    "plt.show()"
   ]
  },
  {
   "cell_type": "code",
   "execution_count": null,
   "metadata": {},
   "outputs": [],
   "source": []
  }
 ],
 "metadata": {
  "kernelspec": {
   "display_name": "Python 3",
   "language": "python",
   "name": "python3"
  },
  "language_info": {
   "codemirror_mode": {
    "name": "ipython",
    "version": 3
   },
   "file_extension": ".py",
   "mimetype": "text/x-python",
   "name": "python",
   "nbconvert_exporter": "python",
   "pygments_lexer": "ipython3",
   "version": "3.7.3"
  }
 },
 "nbformat": 4,
 "nbformat_minor": 2
}
