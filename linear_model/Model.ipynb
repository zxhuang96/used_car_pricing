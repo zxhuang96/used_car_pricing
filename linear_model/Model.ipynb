{
 "cells": [
  {
   "cell_type": "code",
   "execution_count": 2,
   "metadata": {},
   "outputs": [],
   "source": [
    "import pandas as pd\n",
    "import numpy as np\n",
    "from sklearn import linear_model\n",
    "import random\n",
    "import warnings\n",
    "from sklearn.model_selection import StratifiedKFold, KFold, RepeatedKFold\n",
    "warnings.simplefilter('ignore')"
   ]
  },
  {
   "cell_type": "code",
   "execution_count": 3,
   "metadata": {
    "scrolled": false
   },
   "outputs": [],
   "source": [
    "data_grouping=pd.read_csv(\"data_with_grouping_operations_IS.csv\")"
   ]
  },
  {
   "cell_type": "code",
   "execution_count": 4,
   "metadata": {},
   "outputs": [
    {
     "name": "stdout",
     "output_type": "stream",
     "text": [
      "326105\n"
     ]
    }
   ],
   "source": [
    "train_proportion = 0.8\n",
    "features_colname=['year','odometer','income_rank','median_income',\n",
    "       'cylinders_onehot_1', 'cylinders_onehot_2', 'cylinders_onehot_3',\n",
    "       'cylinders_onehot_4', 'cylinders_onehot_5', 'cylinders_onehot_6',\n",
    "       'cylinders_onehot_7', 'cylinders_onehot_8', 'type_onehot_1',\n",
    "       'type_onehot_2', 'type_onehot_3', 'type_onehot_4', 'type_onehot_5',\n",
    "       'type_onehot_6', 'type_onehot_7', 'type_onehot_8', 'type_onehot_9',\n",
    "       'type_onehot_10', 'type_onehot_11', 'type_onehot_12', 'type_onehot_13',\n",
    "       'type_onehot_14','drive_onehot_1', 'drive_onehot_2', 'drive_onehot_3',\n",
    "       'drive_onehot_4', 'title_status_mean_price','manufacturer_mean_price','manufacturer_make_mean_price','transmission_encoded', 'fuel_encoded']\n",
    "data_clean=data_grouping[features_colname+[\"price\"]]\n",
    "\n",
    "# #fill nans in features\n",
    "# features=features.fillna(features.mean())\n",
    "\n",
    "#  drop nan\n",
    "data_clean=data_clean.dropna(axis = 0, how ='any')\n",
    "print(len(data_clean))\n",
    "features=data_clean[features_colname]\n",
    "\n",
    "# scaling\n",
    "features['odometer']=(features['odometer']-features['odometer'].mean())/features['odometer'].std()\n",
    "features['median_income']=(features['median_income']-features['median_income'].mean())/features['median_income'].std()\n",
    "features['manufacturer_mean_price']=(features['manufacturer_mean_price']-features['manufacturer_mean_price'].mean())/features['manufacturer_mean_price'].std()\n",
    "features['manufacturer_make_mean_price']=(features['manufacturer_make_mean_price']-features['manufacturer_make_mean_price'].mean())/features['manufacturer_make_mean_price'].std()\n",
    "features[\"title_status_mean_price\"]=(features[\"title_status_mean_price\"]-features[\"title_status_mean_price\"].mean())/features[\"title_status_mean_price\"].std()\n",
    "features['income_rank']=features['income_rank']/features['income_rank'].max()\n",
    "target=data_clean[\"price\"]\n",
    "\n",
    "index_list=[i for i in range(len(data_clean))]\n",
    "\n",
    "random.shuffle(index_list)\n",
    "train_list=index_list[:round(len(data_clean)*train_proportion)]\n",
    "test_list=index_list[round(len(data_clean)*train_proportion):]\n",
    "\n",
    "# the following variable records the features of examples in the training set\n",
    "train_x=features.iloc[train_list]\n",
    "# the following variable records the features of examples in the test set\n",
    "test_x=features.iloc[test_list]\n",
    "# the following variable records the labels of examples in the training set\n",
    "train_y=target.iloc[train_list]\n",
    "# the following variable records the labels of examples in the test set\n",
    "test_y=target.iloc[test_list]"
   ]
  },
  {
   "cell_type": "code",
   "execution_count": 5,
   "metadata": {},
   "outputs": [],
   "source": [
    "def MAE_relative(y,pred):# assume input as arrays\n",
    "    return abs(1-pred/y).mean()"
   ]
  },
  {
   "cell_type": "markdown",
   "metadata": {},
   "source": [
    "# Lasso"
   ]
  },
  {
   "cell_type": "code",
   "execution_count": 15,
   "metadata": {},
   "outputs": [
    {
     "name": "stdout",
     "output_type": "stream",
     "text": [
      "[  573.62538794 -2794.98613234  -600.1856336   -250.66257134\n",
      "   495.81419395 -2199.89897692 -1416.69464986 -1044.39261307\n",
      "   -49.30308351   651.24970871  1049.91996257  5622.57780826\n",
      "  -652.06887798  2023.30000807  2221.76931523   866.30129112\n",
      " -1037.2519826    205.20686812  -117.39729006  1264.03817062\n",
      "  -584.1678379   1244.65952286  -732.46957809   221.21002209\n",
      "    -0.          -966.9289573   2229.80578541  -455.54038539\n",
      "    -0.           242.4151412    489.67186404   278.25013809\n",
      "  5382.79354335  -371.14737491  -977.24306687]\n",
      "-1137096.4546148474\n"
     ]
    }
   ],
   "source": [
    "lasso = linear_model.Lasso(alpha=0.1)\n",
    "lasso.fit(train_x,train_y)\n",
    "print(lasso.coef_)\n",
    "print(lasso.intercept_)"
   ]
  },
  {
   "cell_type": "code",
   "execution_count": 16,
   "metadata": {},
   "outputs": [
    {
     "name": "stdout",
     "output_type": "stream",
     "text": [
      "Train relative error: 0.496780845138044\n",
      "Test relative error: 0.4989699613440467\n"
     ]
    }
   ],
   "source": [
    "train_pred = lasso.predict(train_x)\n",
    "test_pred = lasso.predict(test_x)\n",
    "\n",
    "train_MAE_relative = MAE_relative(train_y,train_pred)\n",
    "test_MAE_relative = MAE_relative(test_y,test_pred)\n",
    "\n",
    "print(\"Train relative error:\",train_MAE_relative)\n",
    "print(\"Test relative error:\",test_MAE_relative)"
   ]
  },
  {
   "cell_type": "markdown",
   "metadata": {},
   "source": [
    "# Huber"
   ]
  },
  {
   "cell_type": "code",
   "execution_count": 8,
   "metadata": {},
   "outputs": [
    {
     "name": "stdout",
     "output_type": "stream",
     "text": [
      "[ 7.33088278e+00 -4.25164208e+03  8.39649071e+00 -1.58674279e+02\n",
      "  6.48252579e+02 -1.26086832e+01 -6.29649834e+02 -7.44536211e+01\n",
      " -4.36437418e+01  8.38412762e+01 -1.44441636e+01 -8.32778224e-01\n",
      " -1.96976371e+02  6.15118627e+00 -1.42253939e+02 -1.48454472e+02\n",
      " -2.47947986e+02  3.75630807e+01 -3.32803252e+02 -1.56286413e+01\n",
      " -1.94142730e+01  9.82689602e+02 -3.94218059e+02  4.81311072e+02\n",
      "  7.37085105e+01 -1.27265424e+02  1.55628406e+03 -4.86242117e+02\n",
      " -4.75142507e+02 -6.38438400e+02  4.44527923e+02  2.18756394e+02\n",
      "  6.10734496e+03 -5.19468490e+02 -5.55210932e+02]\n",
      "-43.539251305531074\n"
     ]
    }
   ],
   "source": [
    "huber = linear_model.HuberRegressor().fit(train_x, train_y)\n",
    "print(huber.coef_)\n",
    "print(huber.intercept_)"
   ]
  },
  {
   "cell_type": "code",
   "execution_count": 9,
   "metadata": {},
   "outputs": [
    {
     "name": "stdout",
     "output_type": "stream",
     "text": [
      "Train relative error: 0.514904153241098\n",
      "Test relative error: 0.5164665758939389\n"
     ]
    }
   ],
   "source": [
    "train_pred = huber.predict(train_x)\n",
    "test_pred = huber.predict(test_x)\n",
    "\n",
    "train_MAE_relative = MAE_relative(train_y,train_pred)\n",
    "test_MAE_relative = MAE_relative(test_y,test_pred)\n",
    "\n",
    "print(\"Train relative error:\",train_MAE_relative)\n",
    "print(\"Test relative error:\",test_MAE_relative)"
   ]
  },
  {
   "cell_type": "markdown",
   "metadata": {},
   "source": [
    "# Elastic Net (k-fold)"
   ]
  },
  {
   "cell_type": "code",
   "execution_count": 12,
   "metadata": {
    "scrolled": true
   },
   "outputs": [
    {
     "name": "stdout",
     "output_type": "stream",
     "text": [
      "Coefficient: [ 5.75339815e+02 -2.75411379e+03 -8.56693058e+01 -1.03436314e+02\n",
      "  5.54484080e+02 -9.72681239e+01 -1.25722836e+03 -2.56512074e+02\n",
      "  3.76289825e+01  6.84498209e+02  2.02576665e+02  1.31152214e+02\n",
      " -6.35002170e+02  1.15102941e+02  1.15861523e+03  5.75485428e+02\n",
      " -7.39090862e+02  9.79889258e+01 -1.44908442e+02  1.27420150e+02\n",
      " -3.64842622e+02  1.08784435e+03 -7.57313652e+02  2.13990587e+02\n",
      " -8.51718311e+01 -6.50118498e+02  1.63261935e+03 -1.01085036e+03\n",
      " -4.89481231e+02 -1.31590235e+02  5.76938771e-01  3.48873466e+02\n",
      "  5.32624123e+03 -3.36653576e+02 -9.85489567e+02]\n",
      "Intercept: -1148221.9198178514\n",
      "Train error: 0.495617078203981\n",
      "Test error: 0.49592889445360644\n"
     ]
    }
   ],
   "source": [
    "kf = KFold(n_splits=5)\n",
    "index=list(kf.split(target))\n",
    "train_index_first, test_index_first=index[0]\n",
    "\n",
    "# grid search l1:0.25-0.5 alpha:0.005-0.02\n",
    "train_x=features.iloc[train_index_first]\n",
    "test_x=features.iloc[test_index_first]\n",
    "train_y=target.iloc[train_index_first]\n",
    "test_y=target.iloc[test_index_first]\n",
    "alpha_list=np.linspace(0.005,0.02,5)\n",
    "l1_list=np.linspace(0.25,0.5,5)\n",
    "\n",
    "d={}\n",
    "for alpha in alpha_list:\n",
    "    train_MAE_list=[]\n",
    "    test_MAE_list=[]\n",
    "    for l1 in l1_list:\n",
    "        regr = linear_model.ElasticNet(l1_ratio=l1, alpha=alpha)\n",
    "        regr.fit(train_x, train_y) \n",
    "        train_pred = regr.predict(train_x)\n",
    "        test_pred = regr.predict(test_x)\n",
    "        train_MAE_relative = MAE_relative(train_y,train_pred)\n",
    "        test_MAE_relative = MAE_relative(test_y,test_pred)\n",
    "        d[(alpha,l1)]=test_MAE_relative\n",
    "        \n",
    "min_test_MAE_relative=min(d.values())\n",
    "optim=[key for key in d.keys() if d[key]==min_test_MAE_relative][0]\n",
    "optim_alpha=optim[0]\n",
    "optim_l1=optim[1]\n",
    "       \n",
    "coef_elastic_k=[]\n",
    "intercept_elastic_k=[]\n",
    "train_MAE=[]\n",
    "test_MAE=[]\n",
    "\n",
    "for train_index, test_index in index:\n",
    "    train_x=features.iloc[train_index]\n",
    "    # the following variable records the features of examples in the test set\n",
    "    test_x=features.iloc[test_index]\n",
    "    # the following variable records the labels of examples in the training set\n",
    "    train_y=target.iloc[train_index]\n",
    "    # the following variable records the labels of examples in the test set\n",
    "    test_y=target.iloc[test_index]\n",
    "    \n",
    "    # fit and test\n",
    "    regr = linear_model.ElasticNet(l1_ratio=optim_l1, alpha=optim_alpha)\n",
    "    regr.fit(train_x, train_y) \n",
    "    coef_elastic_k.append(regr.coef_)\n",
    "    intercept_elastic_k.append(regr.intercept_)\n",
    "    train_pred = regr.predict(train_x)\n",
    "    test_pred = regr.predict(test_x)\n",
    "    train_MAE_relative = MAE_relative(train_y,train_pred)\n",
    "    test_MAE_relative = MAE_relative(test_y,test_pred)\n",
    "    train_MAE.append(train_MAE_relative)\n",
    "    test_MAE.append(test_MAE_relative)\n",
    "\n",
    "coef=sum(coef_elastic_k)/len(coef_elastic_k)\n",
    "intercept=sum(intercept_elastic_k)/len(intercept_elastic_k)\n",
    "train_error=sum(train_MAE)/len(train_MAE)\n",
    "test_error=sum(test_MAE)/len(test_MAE)\n",
    "print(\"Coefficient:\",coef)\n",
    "print(\"Intercept:\",intercept)\n",
    "print(\"Train error:\",train_error)\n",
    "print(\"Test error:\",test_error)\n"
   ]
  },
  {
   "cell_type": "markdown",
   "metadata": {},
   "source": [
    "# Huber (k-fold)"
   ]
  },
  {
   "cell_type": "code",
   "execution_count": 13,
   "metadata": {},
   "outputs": [
    {
     "name": "stdout",
     "output_type": "stream",
     "text": [
      "Coefficient: [ 2.93168687e+00 -3.74977691e+03  1.96473403e+01 -1.40693301e+02\n",
      "  5.30424244e+02 -3.29473421e+00 -4.59693705e+02 -3.75463638e+01\n",
      " -1.66192998e+02  1.19433345e+02 -2.62057502e+00 -5.74453480e-01\n",
      " -1.68967644e+01  8.23834391e-01 -5.31899869e+01 -2.60242944e+01\n",
      " -1.06866348e+02 -1.52205503e+01 -2.35102855e+02 -5.31373891e+00\n",
      "  6.79792595e+01  5.16125483e+02 -4.03809344e+02  3.03563501e+02\n",
      "  2.69057849e+00 -4.88240142e+01  9.77427939e+02 -4.86458919e+02\n",
      " -2.60823004e+02 -2.50211258e+02  6.00176156e-01  3.87704934e+02\n",
      "  4.48623388e+03 -1.59349673e+01 -4.85594772e+02]\n",
      "Intercept: -20.065288295667273\n",
      "Train error: 0.6160062466322502\n",
      "Test error: 0.6100093165357316\n"
     ]
    }
   ],
   "source": [
    "kf = KFold(n_splits=5)\n",
    "index=list(kf.split(target))\n",
    "\n",
    "coef_huber_k=[]\n",
    "intercept_huber_k=[]\n",
    "train_MAE=[]\n",
    "test_MAE=[]\n",
    "\n",
    "for train_index, test_index in index:\n",
    "    train_x=features.iloc[train_index]\n",
    "    # the following variable records the features of examples in the test set\n",
    "    test_x=features.iloc[test_index]\n",
    "    # the following variable records the labels of examples in the training set\n",
    "    train_y=target.iloc[train_index]\n",
    "    # the following variable records the labels of examples in the test set\n",
    "    test_y=target.iloc[test_index]\n",
    "    \n",
    "    # fit and test\n",
    "    regr = linear_model.HuberRegressor().fit(train_x, train_y)\n",
    "    coef_huber_k.append(regr.coef_)\n",
    "    intercept_huber_k.append(regr.intercept_)\n",
    "    train_pred = regr.predict(train_x)\n",
    "    test_pred = regr.predict(test_x)\n",
    "    train_MAE_relative = MAE_relative(train_y,train_pred)\n",
    "    test_MAE_relative = MAE_relative(test_y,test_pred)\n",
    "    train_MAE.append(train_MAE_relative)\n",
    "    test_MAE.append(test_MAE_relative)\n",
    "\n",
    "coef=sum(coef_huber_k)/len(coef_huber_k)\n",
    "intercept=sum(intercept_huber_k)/len(intercept_huber_k)\n",
    "train_error=sum(train_MAE)/len(train_MAE)\n",
    "test_error=sum(test_MAE)/len(test_MAE)\n",
    "print(\"Coefficient:\",coef)\n",
    "print(\"Intercept:\",intercept)\n",
    "print(\"Train error:\",train_error)\n",
    "print(\"Test error:\",test_error)\n"
   ]
  },
  {
   "cell_type": "markdown",
   "metadata": {},
   "source": [
    "# BayesianRidge Regression"
   ]
  },
  {
   "cell_type": "code",
   "execution_count": 13,
   "metadata": {},
   "outputs": [
    {
     "name": "stdout",
     "output_type": "stream",
     "text": [
      "[  573.66478556 -2794.94229164  -631.1949129   -258.8200459\n",
      "   160.32477627 -2524.10053484 -1752.97587776 -1387.10766046\n",
      "  -386.35779579   314.97488099   732.06991828  4843.17229318\n",
      "  -939.42361888  1758.58037374  1936.75688195   581.66336318\n",
      " -1325.88292919   -75.38056706  -405.16959687  1015.7608768\n",
      "  -873.13171156   958.17461109 -1019.71392037   -65.10271387\n",
      "  -291.2768399  -1255.85420907  1725.41939968  -960.02767339\n",
      "  -504.75081483  -260.64091142   489.74290288   278.4234478\n",
      "  5382.32185065  -371.4488836   -977.27695563]\n",
      "-1136032.5065915978\n"
     ]
    }
   ],
   "source": [
    "reg = linear_model.BayesianRidge().fit(train_x, train_y)\n",
    "print(reg.coef_)\n",
    "print(reg.intercept_)"
   ]
  },
  {
   "cell_type": "code",
   "execution_count": 14,
   "metadata": {},
   "outputs": [
    {
     "name": "stdout",
     "output_type": "stream",
     "text": [
      "Train relative error: 0.4967864252852826\n",
      "Test relative error: 0.49898182153534193\n"
     ]
    }
   ],
   "source": [
    "train_pred = reg.predict(train_x)\n",
    "test_pred = reg.predict(test_x)\n",
    "\n",
    "train_MAE_relative = MAE_relative(train_y,train_pred)\n",
    "test_MAE_relative = MAE_relative(test_y,test_pred)\n",
    "\n",
    "print(\"Train relative error:\",train_MAE_relative)\n",
    "print(\"Test relative error:\",test_MAE_relative)"
   ]
  },
  {
   "cell_type": "code",
   "execution_count": 17,
   "metadata": {},
   "outputs": [
    {
     "name": "stdout",
     "output_type": "stream",
     "text": [
      "Coefficient: [  572.75926499 -2790.39062982  -592.76675318  -237.09160968\n",
      "   -11.55671508 -2494.46375202 -1928.32340698 -1483.49908888\n",
      "  -570.18575119   102.27052284   407.93203964  5977.82615173\n",
      "  -941.92740874  1619.46265931  1927.91937682   604.79167336\n",
      " -1317.80865208   -61.98855143  -396.69117837  1091.98223893\n",
      "  -836.62541144   943.41084509 -1010.80949742   -36.58400337\n",
      "  -317.46696615 -1267.66512451  1728.39563005  -969.27032482\n",
      "  -502.71389225  -256.41141304   487.1193661    286.68603093\n",
      "  5392.42946728  -368.67205382  -992.83834532]\n",
      "Intercept: -1134010.6005650677\n",
      "Train error: 0.4975586190802292\n",
      "Test error: 0.4980129466272647\n"
     ]
    }
   ],
   "source": [
    "kf = KFold(n_splits=5)\n",
    "index=list(kf.split(target))\n",
    "\n",
    "coef_bay_k=[]\n",
    "intercept_bay_k=[]\n",
    "train_MAE=[]\n",
    "test_MAE=[]\n",
    "\n",
    "for train_index, test_index in index:\n",
    "    train_x=features.iloc[train_index]\n",
    "    # the following variable records the features of examples in the test set\n",
    "    test_x=features.iloc[test_index]\n",
    "    # the following variable records the labels of examples in the training set\n",
    "    train_y=target.iloc[train_index]\n",
    "    # the following variable records the labels of examples in the test set\n",
    "    test_y=target.iloc[test_index]\n",
    "    \n",
    "    # fit and test\n",
    "    regr = linear_model.BayesianRidge().fit(train_x, train_y)\n",
    "    coef_bay_k.append(regr.coef_)\n",
    "    intercept_bay_k.append(regr.intercept_)\n",
    "    train_pred = regr.predict(train_x)\n",
    "    test_pred = regr.predict(test_x)\n",
    "    train_MAE_relative = MAE_relative(train_y,train_pred)\n",
    "    test_MAE_relative = MAE_relative(test_y,test_pred)\n",
    "    train_MAE.append(train_MAE_relative)\n",
    "    test_MAE.append(test_MAE_relative)\n",
    "\n",
    "coef=sum(coef_bay_k)/len(coef_bay_k)\n",
    "intercept=sum(intercept_bay_k)/len(intercept_bay_k)\n",
    "train_error=sum(train_MAE)/len(train_MAE)\n",
    "test_error=sum(test_MAE)/len(test_MAE)\n",
    "print(\"Coefficient:\",coef)\n",
    "print(\"Intercept:\",intercept)\n",
    "print(\"Train error:\",train_error)\n",
    "print(\"Test error:\",test_error)"
   ]
  },
  {
   "cell_type": "code",
   "execution_count": null,
   "metadata": {},
   "outputs": [],
   "source": []
  },
  {
   "cell_type": "code",
   "execution_count": null,
   "metadata": {},
   "outputs": [],
   "source": []
  }
 ],
 "metadata": {
  "kernelspec": {
   "display_name": "Python 3",
   "language": "python",
   "name": "python3"
  },
  "language_info": {
   "codemirror_mode": {
    "name": "ipython",
    "version": 3
   },
   "file_extension": ".py",
   "mimetype": "text/x-python",
   "name": "python",
   "nbconvert_exporter": "python",
   "pygments_lexer": "ipython3",
   "version": "3.7.3"
  }
 },
 "nbformat": 4,
 "nbformat_minor": 2
}
