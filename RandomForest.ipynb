{
 "cells": [
  {
   "cell_type": "code",
   "execution_count": 1,
   "metadata": {},
   "outputs": [],
   "source": [
    "import numpy as np\n",
    "import pandas as pd\n",
    "import seaborn as sns\n",
    "%matplotlib inline\n",
    "import matplotlib.pyplot as plt\n",
    "from sklearn.decomposition import PCA\n",
    "from sklearn.ensemble import RandomForestClassifier\n",
    "from sklearn.model_selection import train_test_split\n",
    "from sklearn import svm, datasets\n",
    "from sklearn.neighbors import KNeighborsClassifier\n",
    "from sklearn.tree import DecisionTreeClassifier\n",
    "from sklearn.multiclass import OneVsRestClassifier\n",
    "from sklearn.model_selection import GridSearchCV\n",
    "from sklearn.metrics import classification_report, confusion_matrix, roc_curve, accuracy_score\n",
    "from sklearn.model_selection import cross_val_score, cross_val_predict\n",
    "import warnings\n",
    "warnings.filterwarnings('ignore')"
   ]
  },
  {
   "cell_type": "code",
   "execution_count": 2,
   "metadata": {},
   "outputs": [],
   "source": [
    "dfis=pd.read_csv(\"data_with_grouping_operations_IS.csv\")\n",
    "dfos=pd.read_csv(\"data_with_grouping_operations_OS.csv\")"
   ]
  },
  {
   "cell_type": "code",
   "execution_count": 89,
   "metadata": {},
   "outputs": [],
   "source": [
    "dfis_sub=dfis[['year','condition_onehot_1',\n",
    "       'condition_onehot_2', 'condition_onehot_3', 'condition_onehot_4',\n",
    "       'condition_onehot_5', 'condition_onehot_6', 'condition_onehot_7','title_status_mean_price',\n",
    "       'title_status_median_price', 'title_status_price_std',\n",
    "       'transmission_mean_price', 'transmission_median_price',\n",
    "       'transmission_price_std', 'type_mean_price', 'type_median_price',\n",
    "       'type_price_std', 'manufacturer_make_mean_price',\n",
    "       'manufacturer_make_median_price', 'manufacturer_make_price_std']]\n",
    "dfos_sub=dfos[['year','condition_onehot_1',\n",
    "       'condition_onehot_2', 'condition_onehot_3', 'condition_onehot_4',\n",
    "       'condition_onehot_5', 'condition_onehot_6', 'condition_onehot_7','title_status_mean_price',\n",
    "       'title_status_median_price', 'title_status_price_std',\n",
    "       'transmission_mean_price', 'transmission_median_price',\n",
    "       'transmission_price_std', 'type_mean_price', 'type_median_price',\n",
    "       'type_price_std', 'manufacturer_make_mean_price',\n",
    "       'manufacturer_make_median_price', 'manufacturer_make_price_std']]"
   ]
  },
  {
   "cell_type": "code",
   "execution_count": 90,
   "metadata": {},
   "outputs": [],
   "source": [
    "for s in dfis_sub.columns:\n",
    "    dfis_sub[s]=dfis_sub[s].fillna(dfis_sub[s].mean())\n",
    "    dfos_sub[s]=dfos_sub[s].fillna(dfos_sub[s].mean())"
   ]
  },
  {
   "cell_type": "code",
   "execution_count": 91,
   "metadata": {},
   "outputs": [],
   "source": [
    "num=20000\n",
    "target=dfis.price.values[1:num]\n",
    "data=dfis_sub.values[1:num,:]"
   ]
  },
  {
   "cell_type": "code",
   "execution_count": 95,
   "metadata": {
    "scrolled": true
   },
   "outputs": [
    {
     "name": "stdout",
     "output_type": "stream",
     "text": [
      "{'min_samples_split': 4}\n"
     ]
    }
   ],
   "source": [
    "rf_clf=RandomForestClassifier(max_depth=8, random_state=0)\n",
    "#D_list=[4, 6, 8]\n",
    "e_list=[2,3,4]\n",
    "clf=GridSearchCV(rf_clf, {'min_samples_split':e_list},return_train_score=True)\n",
    "clf.fit(data, target)\n",
    "print(clf.best_params_)"
   ]
  },
  {
   "cell_type": "code",
   "execution_count": null,
   "metadata": {},
   "outputs": [],
   "source": [
    "def mae(estimator,X,y):\n",
    "    pred=cross_val_predict(estimator, X,y)\n",
    "    return abs(1-pred/y).mean()"
   ]
  },
  {
   "cell_type": "code",
   "execution_count": 52,
   "metadata": {},
   "outputs": [
    {
     "name": "stdout",
     "output_type": "stream",
     "text": [
      "0.4014174204237377\n"
     ]
    }
   ],
   "source": [
    "rf_clf=RandomForestClassifier(n_estimators=100, max_depth=8, min_samples_split=2, max_features=None,random_state=0)\n",
    "print(cross_val_score(rf_clf, data, target, cv = 3, scoring=mae).mean())"
   ]
  },
  {
   "cell_type": "markdown",
   "metadata": {},
   "source": [
    "# Type"
   ]
  },
  {
   "cell_type": "code",
   "execution_count": 41,
   "metadata": {},
   "outputs": [
    {
     "data": {
      "text/plain": [
       "array(['pickup', 'truck', 'SUV', 'hatchback', 'van', 'sedan', 'coupe',\n",
       "       'wagon', 'mini-van', 'other', 'convertible', 'bus', 'offroad'],\n",
       "      dtype=object)"
      ]
     },
     "execution_count": 41,
     "metadata": {},
     "output_type": "execute_result"
    }
   ],
   "source": [
    "pred_is=pd.DataFrame([], index=dfis.index, columns=['prediction'])\n",
    "pred_os=pd.DataFrame([], index=dfos.index, columns=['prediction'])\n",
    "type_list=dfis['type'].unique()\n",
    "type_list=type_list[1:]\n",
    "type_list"
   ]
  },
  {
   "cell_type": "markdown",
   "metadata": {},
   "source": [
    "# Accuracy method"
   ]
  },
  {
   "cell_type": "code",
   "execution_count": 42,
   "metadata": {},
   "outputs": [],
   "source": [
    "def accuracy(pred, y):\n",
    "    return abs(1-pred/y).mean()"
   ]
  },
  {
   "cell_type": "markdown",
   "metadata": {},
   "source": [
    "## NaN"
   ]
  },
  {
   "cell_type": "code",
   "execution_count": 93,
   "metadata": {},
   "outputs": [
    {
     "data": {
      "text/plain": [
       "RandomForestClassifier(bootstrap=True, class_weight=None, criterion='gini',\n",
       "                       max_depth=8, max_features='auto', max_leaf_nodes=None,\n",
       "                       min_impurity_decrease=0.0, min_impurity_split=None,\n",
       "                       min_samples_leaf=1, min_samples_split=2,\n",
       "                       min_weight_fraction_leaf=0.0, n_estimators=10,\n",
       "                       n_jobs=None, oob_score=False, random_state=0, verbose=0,\n",
       "                       warm_start=False)"
      ]
     },
     "execution_count": 93,
     "metadata": {},
     "output_type": "execute_result"
    }
   ],
   "source": [
    "rf_clf.fit(data, target)"
   ]
  },
  {
   "cell_type": "code",
   "execution_count": 94,
   "metadata": {},
   "outputs": [
    {
     "name": "stdout",
     "output_type": "stream",
     "text": [
      "accuracy:  0.5366960771382376\n"
     ]
    }
   ],
   "source": [
    "dfis_type=dfis[dfis['type'].isnull()]\n",
    "dfis_type_sub=dfis_type[['year','condition_onehot_1',\n",
    "       'condition_onehot_2', 'condition_onehot_3', 'condition_onehot_4',\n",
    "       'condition_onehot_5', 'condition_onehot_6', 'condition_onehot_7','title_status_mean_price',\n",
    "       'title_status_median_price', 'title_status_price_std',\n",
    "       'transmission_mean_price', 'transmission_median_price',\n",
    "       'transmission_price_std', 'type_mean_price', 'type_median_price',\n",
    "       'type_price_std', 'manufacturer_make_mean_price',\n",
    "       'manufacturer_make_median_price', 'manufacturer_make_price_std']]\n",
    "    \n",
    "dfos_type=dfos[dfos['type'].isnull()]\n",
    "dfos_type_sub=dfos_type[['year','condition_onehot_1',\n",
    "       'condition_onehot_2', 'condition_onehot_3', 'condition_onehot_4',\n",
    "       'condition_onehot_5', 'condition_onehot_6', 'condition_onehot_7','title_status_mean_price',\n",
    "       'title_status_median_price', 'title_status_price_std',\n",
    "       'transmission_mean_price', 'transmission_median_price',\n",
    "       'transmission_price_std', 'type_mean_price', 'type_median_price',\n",
    "       'type_price_std', 'manufacturer_make_mean_price',\n",
    "       'manufacturer_make_median_price', 'manufacturer_make_price_std']]\n",
    "    \n",
    "for s in dfis_type_sub.columns:\n",
    "    dfis_type_sub[s]=dfis_type_sub[s].fillna(dfis[s].mean())\n",
    "    dfos_type_sub[s]=dfos_type_sub[s].fillna(dfos[s].mean())\n",
    "        \n",
    "yestimate=rf_clf.predict(dfis_type_sub)\n",
    "yestimate_os=rf_clf.predict(dfos_type_sub)\n",
    "ytrue=dfis_type.price.values\n",
    "print(\"accuracy: \",accuracy(yestimate,ytrue))\n",
    "\n",
    "#Put into prediction\n",
    "pred_is['prediction'].iloc[dfis[dfis['type'].isnull()].index]=yestimate\n",
    "pred_os['prediction'].iloc[dfos[dfos['type'].isnull()].index]=yestimate_os"
   ]
  },
  {
   "cell_type": "markdown",
   "metadata": {},
   "source": [
    "## Other"
   ]
  },
  {
   "cell_type": "code",
   "execution_count": 44,
   "metadata": {},
   "outputs": [
    {
     "name": "stdout",
     "output_type": "stream",
     "text": [
      "Model of type:  pickup\n",
      "cross validation score:  0.3244188157978123\n",
      "accuracy:  0.31810353995556495\n",
      "Model of type:  truck\n",
      "cross validation score:  0.39227751674339045\n",
      "accuracy:  0.3669735020837369\n",
      "Model of type:  SUV\n",
      "cross validation score:  0.3727766116083991\n",
      "accuracy:  0.34194288362984754\n",
      "Model of type:  hatchback\n",
      "cross validation score:  0.3150609144830749\n",
      "accuracy:  0.24892412923921745\n",
      "Model of type:  van\n",
      "cross validation score:  0.38696080983385533\n",
      "accuracy:  0.341846037920405\n",
      "Model of type:  sedan\n",
      "cross validation score:  0.3541785026995579\n",
      "accuracy:  0.3255993801303746\n",
      "Model of type:  coupe\n",
      "cross validation score:  0.39102686093249156\n",
      "accuracy:  0.38844916341098096\n",
      "Model of type:  wagon\n",
      "cross validation score:  0.31457956516799485\n",
      "accuracy:  0.2647782734287451\n",
      "Model of type:  mini-van\n",
      "cross validation score:  0.3722783339435855\n",
      "accuracy:  0.29635932245689767\n",
      "Model of type:  other\n",
      "cross validation score:  0.294947161803779\n",
      "accuracy:  0.2669031463688367\n",
      "Model of type:  convertible\n",
      "cross validation score:  0.42189592969349426\n",
      "accuracy:  0.33893923954230953\n",
      "Model of type:  bus\n",
      "cross validation score:  0.5017938992958688\n",
      "accuracy:  0.2236023098730972\n",
      "Model of type:  offroad\n",
      "cross validation score:  0.5745378468162109\n",
      "accuracy:  0.13453496329096046\n"
     ]
    }
   ],
   "source": [
    "for for t in type_list:\n",
    "    print(\"Model of type: \", t)\n",
    "    dfis_type=dfis[dfis['type']==t]\n",
    "    dfis_type_sub=dfis_type[['year','condition_onehot_1',\n",
    "       'condition_onehot_2', 'condition_onehot_3', 'condition_onehot_4',\n",
    "       'condition_onehot_5', 'condition_onehot_6', 'condition_onehot_7','title_status_mean_price',\n",
    "       'title_status_median_price', 'title_status_price_std',\n",
    "       'transmission_mean_price', 'transmission_median_price',\n",
    "       'transmission_price_std', 'type_mean_price', 'type_median_price',\n",
    "       'type_price_std', 'manufacturer_make_mean_price',\n",
    "       'manufacturer_make_median_price', 'manufacturer_make_price_std']]\n",
    "    \n",
    "    dfos_type=dfos[dfos['type']==t]\n",
    "    dfos_type_sub=dfos_type[['year','condition_onehot_1',\n",
    "       'condition_onehot_2', 'condition_onehot_3', 'condition_onehot_4',\n",
    "       'condition_onehot_5', 'condition_onehot_6', 'condition_onehot_7','title_status_mean_price',\n",
    "       'title_status_median_price', 'title_status_price_std',\n",
    "       'transmission_mean_price', 'transmission_median_price',\n",
    "       'transmission_price_std', 'type_mean_price', 'type_median_price',\n",
    "       'type_price_std', 'manufacturer_make_mean_price',\n",
    "       'manufacturer_make_median_price', 'manufacturer_make_price_std']]\n",
    "    \n",
    "    for s in dfis_type_sub.columns:\n",
    "        dfis_type_sub[s]=dfis_type_sub[s].fillna(dfis_type_sub[s].mean())\n",
    "        dfos_type_sub[s]=dfos_type_sub[s].fillna(dfos_type_sub[s].mean())\n",
    "        \n",
    "    num=min(10000,dfis_type.shape[0])\n",
    "    target=dfis_type.price.values[1:num]\n",
    "    data=dfis_type_sub.values[1:num,:]\n",
    "    \n",
    "    rf_clf=RandomForestClassifier(n_estimators=100, max_depth=8, min_samples_split=3, max_features=None,random_state=0)\n",
    "    print(\"cross validation score: \",cross_val_score(rf_clf, data, target, cv = 3, scoring=mae).mean())\n",
    "    \n",
    "    #Use the random forest classifier\n",
    "    rf_clf=RandomForestClassifier(n_estimators=100, max_depth=8, min_samples_split=3, max_features=None,random_state=0)\n",
    "    rf_clf.fit(data,target)\n",
    "    yestimate=rf_clf.predict(dfis_type_sub)\n",
    "    yestimate_os=rf_clf.predict(dfos_type_sub)\n",
    "    ytrue=dfis_type.price.values\n",
    "    print(\"accuracy: \",accuracy(yestimate,ytrue))\n",
    "\n",
    "    #Put into prediction\n",
    "    pred_is['prediction'].iloc[dfis[dfis['type']==t].index]=yestimate\n",
    "    pred_os['prediction'].iloc[dfos[dfos['type']==t].index]=yestimate_os"
   ]
  },
  {
   "cell_type": "markdown",
   "metadata": {},
   "source": [
    "# Output"
   ]
  },
  {
   "cell_type": "code",
   "execution_count": 96,
   "metadata": {},
   "outputs": [
    {
     "data": {
      "text/plain": [
       "prediction    0\n",
       "dtype: int64"
      ]
     },
     "execution_count": 96,
     "metadata": {},
     "output_type": "execute_result"
    }
   ],
   "source": [
    "pred_is.isnull().sum()"
   ]
  },
  {
   "cell_type": "code",
   "execution_count": 97,
   "metadata": {},
   "outputs": [
    {
     "data": {
      "text/plain": [
       "prediction    0\n",
       "dtype: int64"
      ]
     },
     "execution_count": 97,
     "metadata": {},
     "output_type": "execute_result"
    }
   ],
   "source": [
    "pred_os.isnull().sum()"
   ]
  },
  {
   "cell_type": "code",
   "execution_count": 99,
   "metadata": {},
   "outputs": [],
   "source": [
    "pred_is.to_csv(\"pred_is.csv\")\n",
    "pred_os.to_csv(\"pred_os.csv\")"
   ]
  },
  {
   "cell_type": "code",
   "execution_count": null,
   "metadata": {},
   "outputs": [],
   "source": []
  }
 ],
 "metadata": {
  "kernelspec": {
   "display_name": "Python 3",
   "language": "python",
   "name": "python3"
  },
  "language_info": {
   "codemirror_mode": {
    "name": "ipython",
    "version": 3
   },
   "file_extension": ".py",
   "mimetype": "text/x-python",
   "name": "python",
   "nbconvert_exporter": "python",
   "pygments_lexer": "ipython3",
   "version": "3.7.3"
  }
 },
 "nbformat": 4,
 "nbformat_minor": 2
}
