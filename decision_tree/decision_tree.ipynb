{
 "cells": [
  {
   "cell_type": "code",
   "execution_count": 27,
   "metadata": {},
   "outputs": [],
   "source": [
    "import pandas as pd\n",
    "import numpy as np\n",
    "import time\n",
    "from sklearn.tree import DecisionTreeRegressor\n",
    "from sklearn.model_selection import StratifiedKFold, KFold, RepeatedKFold\n",
    "import sys\n",
    "sys.path.append(\"..\")\n",
    "import utils\n",
    "import warnings\n",
    "warnings.filterwarnings(\"ignore\")\n",
    "from sklearn import metrics"
   ]
  },
  {
   "cell_type": "code",
   "execution_count": 31,
   "metadata": {},
   "outputs": [],
   "source": [
    "def MAE_relative(y,pred):# assume input as arrays\n",
    "    return round(abs(1-pred/y).mean(),4)"
   ]
  },
  {
   "cell_type": "code",
   "execution_count": 29,
   "metadata": {},
   "outputs": [],
   "source": [
    "features_colname = ['year','odometer','income_rank','median_income',\n",
    "       'cylinders_onehot_1', 'cylinders_onehot_2', 'cylinders_onehot_3',\n",
    "       'cylinders_onehot_4', 'cylinders_onehot_5', 'cylinders_onehot_6',\n",
    "       'cylinders_onehot_7', 'cylinders_onehot_8', 'type_onehot_1',\n",
    "       'type_onehot_2', 'type_onehot_3', 'type_onehot_4', 'type_onehot_5',\n",
    "       'type_onehot_6', 'type_onehot_7', 'type_onehot_8', 'type_onehot_9',\n",
    "       'type_onehot_10', 'type_onehot_11', 'type_onehot_12', 'type_onehot_13',\n",
    "       'type_onehot_14','drive_onehot_1', 'drive_onehot_2', 'drive_onehot_3',\n",
    "       'drive_onehot_4', 'title_status_mean_price', 'title_status_median_price', \n",
    "       'title_status_price_std','manufacturer_mean_price','manufacturer_median_price', 'condition_mean_price',\n",
    "       'condition_median_price', 'condition_price_std', 'manufacturer_price_std',\n",
    "       'manufacturer_make_mean_price','manufacturer_make_median_price', 'manufacturer_make_price_std',\n",
    "       'transmission_encoded', 'fuel_encoded', 'year_mean_price', 'year_median_price', 'year_price_std']\n",
    "\n",
    "\n",
    "file_folder = '../data'\n",
    "data_all_IS = pd.read_csv(f'{file_folder}/IS/data_with_grouping_operations_IS.csv')\n",
    "data_all_OS = pd.read_csv(f'{file_folder}/OS/data_with_grouping_operations_OS.csv')\n",
    "\n",
    "X = data_all_IS[features_colname]\n",
    "\n",
    "zscore_cols = ['odometer', 'median_income', 'manufacturer_mean_price', 'manufacturer_median_price','condition_mean_price','condition_median_price', 'condition_price_std', \n",
    "       'manufacturer_price_std', 'manufacturer_make_mean_price', 'manufacturer_make_median_price', 'manufacturer_make_price_std', 'title_status_mean_price', 'title_status_median_price', 'title_status_price_std','year_mean_price', 'year_median_price', 'year_price_std']\n",
    "positive_cols = ['income_rank']\n",
    "\n",
    "X = utils.scaling(X,data_all_IS,zscore_cols,positive_cols)\n",
    "X = utils.clean_df(X)\n",
    "\n",
    "X_os = data_all_OS[features_colname]\n",
    "\n",
    "# scaling\n",
    "X_os = utils.scaling(X_os,data_all_IS,zscore_cols,positive_cols)\n",
    "X_os = utils.clean_df(X_os,X)\n",
    "\n",
    "y = pd.DataFrame(data_all_IS['price'])\n",
    "y = utils.clean_df(y)"
   ]
  },
  {
   "cell_type": "code",
   "execution_count": 39,
   "metadata": {},
   "outputs": [],
   "source": [
    "n_fold = 5\n",
    "kf = KFold(n_splits=n_fold)\n",
    "index=list(kf.split(y))\n",
    "\n",
    "r = np.zeros((4,3))\n",
    "d = [15, 20, 25, 30]\n",
    "s = [20, 30, 40]\n"
   ]
  },
  {
   "cell_type": "code",
   "execution_count": 40,
   "metadata": {},
   "outputs": [],
   "source": [
    "for i in range(4):\n",
    "    for j in range(3):\n",
    "        dt_paras={\n",
    "            \"criterion\":\"mse\",\n",
    "            \"max_depth\":d[i],\n",
    "            \"min_samples_split\":s[j]\n",
    "        }\n",
    "\n",
    "        oof = np.zeros(len(X))\n",
    "        prediction = np.zeros(len(X_os))\n",
    "\n",
    "\n",
    "        for train_index, test_index in index:\n",
    "            X_train, X_test = X.iloc[train_index], X.iloc[test_index]\n",
    "            y_train, y_test = y.iloc[train_index], y.iloc[test_index]\n",
    "\n",
    "            model = DecisionTreeRegressor(**dt_paras)\n",
    "            model.fit(X_train,y_train)\n",
    "            y_pred_test = model.predict(X_test)\n",
    "            y_pred_os = model.predict(X_os)\n",
    "            oof[test_index] = y_pred_test.reshape(-1, )\n",
    "            prediction += y_pred_os\n",
    "\n",
    "        prediction /= n_fold\n",
    "        IS_error = MAE_relative(np.array(y).flatten(),oof)\n",
    "        r[i,j]= IS_error\n",
    "\n",
    "# print(\"Writing files...\")\n",
    "# out_dt = pd.DataFrame([])\n",
    "# out_dt['OS_predicted_price'] = prediction\n",
    "# out_dt.to_csv(f'{file_folder}/output/OS_prediction_dt_1.csv', index=False)\n",
    "\n",
    "# is_dt = pd.DataFrame([])\n",
    "# is_dt['IS_predicted_price'] = oof\n",
    "# is_dt.to_csv(f'{file_folder}/output/IS_prediction_dt_1.csv', index=False)\n",
    "# print(\"len(OS)\",len(out_dt))\n",
    "# print(\"len(IS)\",len(is_dt))\n"
   ]
  },
  {
   "cell_type": "code",
   "execution_count": 41,
   "metadata": {},
   "outputs": [
    {
     "name": "stdout",
     "output_type": "stream",
     "text": [
      "[[0.3299 0.3307 0.3313]\n",
      " [0.3122 0.3136 0.3143]\n",
      " [0.3102 0.3108 0.3116]\n",
      " [0.3104 0.3106 0.3111]]\n"
     ]
    }
   ],
   "source": [
    "print(r)"
   ]
  },
  {
   "cell_type": "code",
   "execution_count": 42,
   "metadata": {},
   "outputs": [
    {
     "name": "stdout",
     "output_type": "stream",
     "text": [
      "Writing files...\n",
      "len(OS) 46746\n",
      "len(IS) 420715\n"
     ]
    }
   ],
   "source": [
    "n_fold = 5\n",
    "kf = KFold(n_splits=n_fold)\n",
    "index=list(kf.split(y))\n",
    "\n",
    "dt_paras={\n",
    "    \"criterion\":\"mse\",\n",
    "    \"max_depth\":25,\n",
    "    \"min_samples_split\":20\n",
    "}\n",
    "\n",
    "oof = np.zeros(len(X))\n",
    "prediction = np.zeros(len(X_os))\n",
    "\n",
    "\n",
    "for train_index, test_index in index:\n",
    "    X_train, X_test = X.iloc[train_index], X.iloc[test_index]\n",
    "    y_train, y_test = y.iloc[train_index], y.iloc[test_index]\n",
    "    \n",
    "    model = DecisionTreeRegressor(**dt_paras)\n",
    "    model.fit(X_train,y_train)\n",
    "    y_pred_test = model.predict(X_test)\n",
    "    y_pred_os = model.predict(X_os)\n",
    "    oof[test_index] = y_pred_test.reshape(-1, )\n",
    "    prediction += y_pred_os\n",
    "\n",
    "prediction /= n_fold\n",
    "\n",
    "\n",
    "print(\"Writing files...\")\n",
    "out_dt = pd.DataFrame([])\n",
    "out_dt['OS_predicted_price'] = prediction\n",
    "out_dt.to_csv(f'{file_folder}/output/OS_prediction_dt_1.csv', index=False)\n",
    "\n",
    "is_dt = pd.DataFrame([])\n",
    "is_dt['IS_predicted_price'] = oof\n",
    "is_dt.to_csv(f'{file_folder}/output/IS_prediction_dt_1.csv', index=False)\n",
    "print(\"len(OS)\",len(out_dt))\n",
    "print(\"len(IS)\",len(is_dt))"
   ]
  },
  {
   "cell_type": "code",
   "execution_count": 44,
   "metadata": {},
   "outputs": [],
   "source": [
    "import matplotlib.pyplot as plt"
   ]
  },
  {
   "cell_type": "code",
   "execution_count": 65,
   "metadata": {},
   "outputs": [
    {
     "data": {
      "image/png": "[encoded data removed]",
      "text/plain": [
       "<Figure size 432x288 with 1 Axes>"
      ]
     },
     "metadata": {
      "needs_background": "light"
     },
     "output_type": "display_data"
    }
   ],
   "source": [
    "error_seq = 1-oof/np.array(y).flatten()\n",
    "plt.hist(error_seq[abs(error_seq)<1],bins=30,density=1)\n",
    "plt.xlabel(\"relative error\")\n",
    "plt.ylabel(\"frequency\")\n",
    "plt.title(\"Histogram of testing relative error of Regression Tree \")\n",
    "plt.show()"
   ]
  },
  {
   "cell_type": "code",
   "execution_count": 53,
   "metadata": {},
   "outputs": [
    {
     "data": {
      "text/plain": [
       "4151"
      ]
     },
     "execution_count": 53,
     "metadata": {},
     "output_type": "execute_result"
    }
   ],
   "source": [
    "len(error_seq[error_seq>3])"
   ]
  },
  {
   "cell_type": "code",
   "execution_count": null,
   "metadata": {},
   "outputs": [],
   "source": []
  }
 ],
 "metadata": {
  "kernelspec": {
   "display_name": "Python 3",
   "language": "python",
   "name": "python3"
  },
  "language_info": {
   "codemirror_mode": {
    "name": "ipython",
    "version": 3
   },
   "file_extension": ".py",
   "mimetype": "text/x-python",
   "name": "python",
   "nbconvert_exporter": "python",
   "pygments_lexer": "ipython3",
   "version": "3.7.3"
  }
 },
 "nbformat": 4,
 "nbformat_minor": 2
}
