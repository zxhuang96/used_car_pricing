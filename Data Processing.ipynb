{
 "cells": [
  {
   "cell_type": "code",
   "execution_count": 1,
   "metadata": {},
   "outputs": [],
   "source": [
    "# Package used in this project\n",
    "import numpy as np\n",
    "import pandas as pd\n",
    "import seaborn as sns\n",
    "import matplotlib.pyplot as plt"
   ]
  },
  {
   "cell_type": "markdown",
   "metadata": {},
   "source": [
    "# Data processing\n",
    "\n",
    "## Import data"
   ]
  },
  {
   "cell_type": "code",
   "execution_count": 2,
   "metadata": {},
   "outputs": [],
   "source": [
    "df_original=pd.read_csv(\"craigslistVehicles.csv\")"
   ]
  },
  {
   "cell_type": "code",
   "execution_count": 3,
   "metadata": {},
   "outputs": [
    {
     "data": {
      "text/html": [
       "<div>\n",
       "<style scoped>\n",
       "    .dataframe tbody tr th:only-of-type {\n",
       "        vertical-align: middle;\n",
       "    }\n",
       "\n",
       "    .dataframe tbody tr th {\n",
       "        vertical-align: top;\n",
       "    }\n",
       "\n",
       "    .dataframe thead th {\n",
       "        text-align: right;\n",
       "    }\n",
       "</style>\n",
       "<table border=\"1\" class=\"dataframe\">\n",
       "  <thead>\n",
       "    <tr style=\"text-align: right;\">\n",
       "      <th></th>\n",
       "      <th>url</th>\n",
       "      <th>city</th>\n",
       "      <th>city_url</th>\n",
       "      <th>price</th>\n",
       "      <th>year</th>\n",
       "      <th>manufacturer</th>\n",
       "      <th>make</th>\n",
       "      <th>condition</th>\n",
       "      <th>cylinders</th>\n",
       "      <th>fuel</th>\n",
       "      <th>...</th>\n",
       "      <th>transmission</th>\n",
       "      <th>VIN</th>\n",
       "      <th>drive</th>\n",
       "      <th>size</th>\n",
       "      <th>type</th>\n",
       "      <th>paint_color</th>\n",
       "      <th>image_url</th>\n",
       "      <th>desc</th>\n",
       "      <th>lat</th>\n",
       "      <th>long</th>\n",
       "    </tr>\n",
       "  </thead>\n",
       "  <tbody>\n",
       "    <tr>\n",
       "      <th>0</th>\n",
       "      <td>https://abilene.craigslist.org/cto/d/aspermont...</td>\n",
       "      <td>abilene, TX</td>\n",
       "      <td>https://abilene.craigslist.org</td>\n",
       "      <td>9000</td>\n",
       "      <td>2009.0</td>\n",
       "      <td>chevrolet</td>\n",
       "      <td>suburban lt2</td>\n",
       "      <td>good</td>\n",
       "      <td>8 cylinders</td>\n",
       "      <td>gas</td>\n",
       "      <td>...</td>\n",
       "      <td>automatic</td>\n",
       "      <td>1GFNC26099R211276</td>\n",
       "      <td>rwd</td>\n",
       "      <td>full-size</td>\n",
       "      <td>SUV</td>\n",
       "      <td>white</td>\n",
       "      <td>https://images.craigslist.org/00909_5P6f1E6zHl...</td>\n",
       "      <td>2WD 1/2 ton\\nLeather Captains Chairs\\nIn good ...</td>\n",
       "      <td>33.130100</td>\n",
       "      <td>-100.234400</td>\n",
       "    </tr>\n",
       "    <tr>\n",
       "      <th>1</th>\n",
       "      <td>https://abilene.craigslist.org/ctd/d/liberty-h...</td>\n",
       "      <td>abilene, TX</td>\n",
       "      <td>https://abilene.craigslist.org</td>\n",
       "      <td>31999</td>\n",
       "      <td>2012.0</td>\n",
       "      <td>ram</td>\n",
       "      <td>2500</td>\n",
       "      <td>NaN</td>\n",
       "      <td>NaN</td>\n",
       "      <td>diesel</td>\n",
       "      <td>...</td>\n",
       "      <td>automatic</td>\n",
       "      <td>NaN</td>\n",
       "      <td>NaN</td>\n",
       "      <td>NaN</td>\n",
       "      <td>NaN</td>\n",
       "      <td>NaN</td>\n",
       "      <td>https://images.craigslist.org/00u0u_24XW8uhLYP...</td>\n",
       "      <td>www.GETADIESEL.com\\n2012 RAM 2500 SLT 4X4 MEGA...</td>\n",
       "      <td>30.648368</td>\n",
       "      <td>-97.862949</td>\n",
       "    </tr>\n",
       "    <tr>\n",
       "      <th>2</th>\n",
       "      <td>https://abilene.craigslist.org/ctd/d/liberty-h...</td>\n",
       "      <td>abilene, TX</td>\n",
       "      <td>https://abilene.craigslist.org</td>\n",
       "      <td>16990</td>\n",
       "      <td>2003.0</td>\n",
       "      <td>ram</td>\n",
       "      <td>3500</td>\n",
       "      <td>NaN</td>\n",
       "      <td>NaN</td>\n",
       "      <td>diesel</td>\n",
       "      <td>...</td>\n",
       "      <td>manual</td>\n",
       "      <td>NaN</td>\n",
       "      <td>NaN</td>\n",
       "      <td>NaN</td>\n",
       "      <td>NaN</td>\n",
       "      <td>NaN</td>\n",
       "      <td>https://images.craigslist.org/00l0l_H1UKTJ4sTI...</td>\n",
       "      <td>www.GETADIESEL.com\\n2003 DODGE RAM 3500 LARAMI...</td>\n",
       "      <td>30.648516</td>\n",
       "      <td>-97.862434</td>\n",
       "    </tr>\n",
       "    <tr>\n",
       "      <th>3</th>\n",
       "      <td>https://abilene.craigslist.org/cto/d/merkel-20...</td>\n",
       "      <td>abilene, TX</td>\n",
       "      <td>https://abilene.craigslist.org</td>\n",
       "      <td>6000</td>\n",
       "      <td>2002.0</td>\n",
       "      <td>gmc</td>\n",
       "      <td>sierra 1500</td>\n",
       "      <td>good</td>\n",
       "      <td>8 cylinders</td>\n",
       "      <td>gas</td>\n",
       "      <td>...</td>\n",
       "      <td>automatic</td>\n",
       "      <td>NaN</td>\n",
       "      <td>4wd</td>\n",
       "      <td>NaN</td>\n",
       "      <td>pickup</td>\n",
       "      <td>white</td>\n",
       "      <td>https://images.craigslist.org/00M0M_2wKzc7dKLU...</td>\n",
       "      <td>2002 GMC Sierra Extended Cab Truck For Sale! R...</td>\n",
       "      <td>32.444400</td>\n",
       "      <td>-99.992400</td>\n",
       "    </tr>\n",
       "    <tr>\n",
       "      <th>4</th>\n",
       "      <td>https://abilene.craigslist.org/cto/d/breckenri...</td>\n",
       "      <td>abilene, TX</td>\n",
       "      <td>https://abilene.craigslist.org</td>\n",
       "      <td>37000</td>\n",
       "      <td>2012.0</td>\n",
       "      <td>chevrolet</td>\n",
       "      <td>3500</td>\n",
       "      <td>excellent</td>\n",
       "      <td>8 cylinders</td>\n",
       "      <td>diesel</td>\n",
       "      <td>...</td>\n",
       "      <td>automatic</td>\n",
       "      <td>NaN</td>\n",
       "      <td>4wd</td>\n",
       "      <td>full-size</td>\n",
       "      <td>pickup</td>\n",
       "      <td>silver</td>\n",
       "      <td>https://images.craigslist.org/00r0r_eW1YWlKfCG...</td>\n",
       "      <td>2012 Chevrolet 3500 178k miles, runs and drive...</td>\n",
       "      <td>32.781689</td>\n",
       "      <td>-98.942248</td>\n",
       "    </tr>\n",
       "  </tbody>\n",
       "</table>\n",
       "<p>5 rows × 22 columns</p>\n",
       "</div>"
      ],
      "text/plain": [
       "                                                 url         city  \\\n",
       "0  https://abilene.craigslist.org/cto/d/aspermont...  abilene, TX   \n",
       "1  https://abilene.craigslist.org/ctd/d/liberty-h...  abilene, TX   \n",
       "2  https://abilene.craigslist.org/ctd/d/liberty-h...  abilene, TX   \n",
       "3  https://abilene.craigslist.org/cto/d/merkel-20...  abilene, TX   \n",
       "4  https://abilene.craigslist.org/cto/d/breckenri...  abilene, TX   \n",
       "\n",
       "                         city_url  price    year manufacturer          make  \\\n",
       "0  https://abilene.craigslist.org   9000  2009.0    chevrolet  suburban lt2   \n",
       "1  https://abilene.craigslist.org  31999  2012.0          ram          2500   \n",
       "2  https://abilene.craigslist.org  16990  2003.0          ram          3500   \n",
       "3  https://abilene.craigslist.org   6000  2002.0          gmc   sierra 1500   \n",
       "4  https://abilene.craigslist.org  37000  2012.0    chevrolet          3500   \n",
       "\n",
       "   condition    cylinders    fuel  ...  transmission                VIN drive  \\\n",
       "0       good  8 cylinders     gas  ...     automatic  1GFNC26099R211276   rwd   \n",
       "1        NaN          NaN  diesel  ...     automatic                NaN   NaN   \n",
       "2        NaN          NaN  diesel  ...        manual                NaN   NaN   \n",
       "3       good  8 cylinders     gas  ...     automatic                NaN   4wd   \n",
       "4  excellent  8 cylinders  diesel  ...     automatic                NaN   4wd   \n",
       "\n",
       "        size    type paint_color  \\\n",
       "0  full-size     SUV       white   \n",
       "1        NaN     NaN         NaN   \n",
       "2        NaN     NaN         NaN   \n",
       "3        NaN  pickup       white   \n",
       "4  full-size  pickup      silver   \n",
       "\n",
       "                                           image_url  \\\n",
       "0  https://images.craigslist.org/00909_5P6f1E6zHl...   \n",
       "1  https://images.craigslist.org/00u0u_24XW8uhLYP...   \n",
       "2  https://images.craigslist.org/00l0l_H1UKTJ4sTI...   \n",
       "3  https://images.craigslist.org/00M0M_2wKzc7dKLU...   \n",
       "4  https://images.craigslist.org/00r0r_eW1YWlKfCG...   \n",
       "\n",
       "                                                desc        lat        long  \n",
       "0  2WD 1/2 ton\\nLeather Captains Chairs\\nIn good ...  33.130100 -100.234400  \n",
       "1  www.GETADIESEL.com\\n2012 RAM 2500 SLT 4X4 MEGA...  30.648368  -97.862949  \n",
       "2  www.GETADIESEL.com\\n2003 DODGE RAM 3500 LARAMI...  30.648516  -97.862434  \n",
       "3  2002 GMC Sierra Extended Cab Truck For Sale! R...  32.444400  -99.992400  \n",
       "4  2012 Chevrolet 3500 178k miles, runs and drive...  32.781689  -98.942248  \n",
       "\n",
       "[5 rows x 22 columns]"
      ]
     },
     "execution_count": 3,
     "metadata": {},
     "output_type": "execute_result"
    }
   ],
   "source": [
    "df_original.head()"
   ]
  },
  {
   "cell_type": "markdown",
   "metadata": {},
   "source": [
    "## Delete columns"
   ]
  },
  {
   "cell_type": "markdown",
   "metadata": {},
   "source": [
    "First we would like to delete the columns we do not need and the columns with many NaN values."
   ]
  },
  {
   "cell_type": "code",
   "execution_count": 4,
   "metadata": {},
   "outputs": [
    {
     "data": {
      "text/plain": [
       "url                  0\n",
       "city                 0\n",
       "city_url             0\n",
       "price                0\n",
       "year              1487\n",
       "manufacturer     26915\n",
       "make              9677\n",
       "condition       250074\n",
       "cylinders       218997\n",
       "fuel              4741\n",
       "odometer        110800\n",
       "title_status      4024\n",
       "transmission      4055\n",
       "VIN             239238\n",
       "drive           165838\n",
       "size            366256\n",
       "type            159179\n",
       "paint_color     180021\n",
       "image_url           26\n",
       "desc                30\n",
       "lat              11790\n",
       "long             11790\n",
       "dtype: int64"
      ]
     },
     "execution_count": 4,
     "metadata": {},
     "output_type": "execute_result"
    }
   ],
   "source": [
    "df_original.isnull().sum()"
   ]
  },
  {
   "cell_type": "code",
   "execution_count": 5,
   "metadata": {},
   "outputs": [],
   "source": [
    "df=df_original.drop(columns=[\"url\",\"city_url\",\"VIN\",\"size\",\"paint_color\",\"image_url\",\"desc\"])"
   ]
  },
  {
   "cell_type": "code",
   "execution_count": 6,
   "metadata": {},
   "outputs": [
    {
     "data": {
      "text/html": [
       "<div>\n",
       "<style scoped>\n",
       "    .dataframe tbody tr th:only-of-type {\n",
       "        vertical-align: middle;\n",
       "    }\n",
       "\n",
       "    .dataframe tbody tr th {\n",
       "        vertical-align: top;\n",
       "    }\n",
       "\n",
       "    .dataframe thead th {\n",
       "        text-align: right;\n",
       "    }\n",
       "</style>\n",
       "<table border=\"1\" class=\"dataframe\">\n",
       "  <thead>\n",
       "    <tr style=\"text-align: right;\">\n",
       "      <th></th>\n",
       "      <th>price</th>\n",
       "      <th>year</th>\n",
       "      <th>odometer</th>\n",
       "      <th>lat</th>\n",
       "      <th>long</th>\n",
       "    </tr>\n",
       "  </thead>\n",
       "  <tbody>\n",
       "    <tr>\n",
       "      <th>count</th>\n",
       "      <td>5.503130e+05</td>\n",
       "      <td>548826.000000</td>\n",
       "      <td>4.395130e+05</td>\n",
       "      <td>538523.000000</td>\n",
       "      <td>538523.000000</td>\n",
       "    </tr>\n",
       "    <tr>\n",
       "      <th>mean</th>\n",
       "      <td>9.398773e+04</td>\n",
       "      <td>2008.709121</td>\n",
       "      <td>1.037676e+05</td>\n",
       "      <td>38.446760</td>\n",
       "      <td>-93.849082</td>\n",
       "    </tr>\n",
       "    <tr>\n",
       "      <th>std</th>\n",
       "      <td>1.242762e+07</td>\n",
       "      <td>9.610097</td>\n",
       "      <td>2.126622e+05</td>\n",
       "      <td>5.822595</td>\n",
       "      <td>17.611870</td>\n",
       "    </tr>\n",
       "    <tr>\n",
       "      <th>min</th>\n",
       "      <td>0.000000e+00</td>\n",
       "      <td>1900.000000</td>\n",
       "      <td>0.000000e+00</td>\n",
       "      <td>-81.884981</td>\n",
       "      <td>-178.154297</td>\n",
       "    </tr>\n",
       "    <tr>\n",
       "      <th>25%</th>\n",
       "      <td>3.790000e+03</td>\n",
       "      <td>2006.000000</td>\n",
       "      <td>5.057600e+04</td>\n",
       "      <td>34.724400</td>\n",
       "      <td>-106.369340</td>\n",
       "    </tr>\n",
       "    <tr>\n",
       "      <th>50%</th>\n",
       "      <td>8.988000e+03</td>\n",
       "      <td>2011.000000</td>\n",
       "      <td>9.648300e+04</td>\n",
       "      <td>39.124000</td>\n",
       "      <td>-88.160859</td>\n",
       "    </tr>\n",
       "    <tr>\n",
       "      <th>75%</th>\n",
       "      <td>1.750000e+04</td>\n",
       "      <td>2015.000000</td>\n",
       "      <td>1.400480e+05</td>\n",
       "      <td>42.389954</td>\n",
       "      <td>-80.801896</td>\n",
       "    </tr>\n",
       "    <tr>\n",
       "      <th>max</th>\n",
       "      <td>3.787877e+09</td>\n",
       "      <td>2020.000000</td>\n",
       "      <td>1.021028e+08</td>\n",
       "      <td>84.151686</td>\n",
       "      <td>122.367000</td>\n",
       "    </tr>\n",
       "  </tbody>\n",
       "</table>\n",
       "</div>"
      ],
      "text/plain": [
       "              price           year      odometer            lat           long\n",
       "count  5.503130e+05  548826.000000  4.395130e+05  538523.000000  538523.000000\n",
       "mean   9.398773e+04    2008.709121  1.037676e+05      38.446760     -93.849082\n",
       "std    1.242762e+07       9.610097  2.126622e+05       5.822595      17.611870\n",
       "min    0.000000e+00    1900.000000  0.000000e+00     -81.884981    -178.154297\n",
       "25%    3.790000e+03    2006.000000  5.057600e+04      34.724400    -106.369340\n",
       "50%    8.988000e+03    2011.000000  9.648300e+04      39.124000     -88.160859\n",
       "75%    1.750000e+04    2015.000000  1.400480e+05      42.389954     -80.801896\n",
       "max    3.787877e+09    2020.000000  1.021028e+08      84.151686     122.367000"
      ]
     },
     "execution_count": 6,
     "metadata": {},
     "output_type": "execute_result"
    }
   ],
   "source": [
    "df.describe()"
   ]
  },
  {
   "cell_type": "markdown",
   "metadata": {},
   "source": [
    "## Year"
   ]
  },
  {
   "cell_type": "code",
   "execution_count": 7,
   "metadata": {},
   "outputs": [
    {
     "data": {
      "text/plain": [
       "dtype('float64')"
      ]
     },
     "execution_count": 7,
     "metadata": {},
     "output_type": "execute_result"
    }
   ],
   "source": [
    "df[\"year\"].dtypes"
   ]
  },
  {
   "cell_type": "markdown",
   "metadata": {},
   "source": [
    "Year is currently of float type, we would like to transform it to integers."
   ]
  },
  {
   "cell_type": "code",
   "execution_count": 8,
   "metadata": {},
   "outputs": [],
   "source": [
    "df['year']=df['year'].fillna(0.0).astype(int)\n",
    "df=df.drop(df.index[df['year']<1980])"
   ]
  },
  {
   "cell_type": "code",
   "execution_count": 9,
   "metadata": {},
   "outputs": [
    {
     "data": {
      "text/plain": [
       "(array([  1459.,   3322.,   4420.,   7105.,  16771.,  44547.,  96523.,\n",
       "        110702., 144595., 106357.]),\n",
       " array([1980., 1984., 1988., 1992., 1996., 2000., 2004., 2008., 2012.,\n",
       "        2016., 2020.]),\n",
       " <a list of 10 Patch objects>)"
      ]
     },
     "execution_count": 9,
     "metadata": {},
     "output_type": "execute_result"
    },
    {
     "data": {
      "image/png": "[encoded data removed]",
      "text/plain": [
       "<Figure size 432x288 with 1 Axes>"
      ]
     },
     "metadata": {
      "needs_background": "light"
     },
     "output_type": "display_data"
    }
   ],
   "source": [
    "plt.hist(df['year'])"
   ]
  },
  {
   "cell_type": "markdown",
   "metadata": {},
   "source": [
    "## Price"
   ]
  },
  {
   "cell_type": "code",
   "execution_count": 10,
   "metadata": {},
   "outputs": [
    {
     "data": {
      "text/plain": [
       "count    5.358010e+05\n",
       "mean     9.323802e+04\n",
       "std      1.247906e+07\n",
       "min      0.000000e+00\n",
       "25%      3.700000e+03\n",
       "50%      8.950000e+03\n",
       "75%      1.741700e+04\n",
       "max      3.787877e+09\n",
       "Name: price, dtype: float64"
      ]
     },
     "execution_count": 10,
     "metadata": {},
     "output_type": "execute_result"
    }
   ],
   "source": [
    "df[\"price\"].describe()"
   ]
  },
  {
   "cell_type": "code",
   "execution_count": 11,
   "metadata": {},
   "outputs": [
    {
     "data": {
      "image/png": "[encoded data removed]",
      "text/plain": [
       "<Figure size 216x432 with 1 Axes>"
      ]
     },
     "metadata": {
      "needs_background": "light"
     },
     "output_type": "display_data"
    }
   ],
   "source": [
    "df=df.drop(df.index[df['price']>300000])\n",
    "df=df.drop(df.index[df['price']<1000])\n",
    "plt.figure(figsize=(3,6))\n",
    "sns.boxplot(y='price', data=df, showfliers=False);"
   ]
  },
  {
   "cell_type": "markdown",
   "metadata": {},
   "source": [
    "## Odometer"
   ]
  },
  {
   "cell_type": "code",
   "execution_count": 12,
   "metadata": {},
   "outputs": [
    {
     "data": {
      "text/plain": [
       "count    3.853980e+05\n",
       "mean     1.067165e+05\n",
       "std      1.912788e+05\n",
       "min      0.000000e+00\n",
       "25%      5.553025e+04\n",
       "50%      1.000775e+05\n",
       "75%      1.434902e+05\n",
       "max      1.021028e+08\n",
       "Name: odometer, dtype: float64"
      ]
     },
     "execution_count": 12,
     "metadata": {},
     "output_type": "execute_result"
    }
   ],
   "source": [
    "df[\"odometer\"].describe()"
   ]
  },
  {
   "cell_type": "code",
   "execution_count": 13,
   "metadata": {},
   "outputs": [
    {
     "data": {
      "image/png": "[encoded data removed]",
      "text/plain": [
       "<Figure size 216x432 with 1 Axes>"
      ]
     },
     "metadata": {
      "needs_background": "light"
     },
     "output_type": "display_data"
    }
   ],
   "source": [
    "plt.figure(figsize=(3,6))\n",
    "sns.boxplot(y='odometer', data=df, showfliers=False);"
   ]
  },
  {
   "cell_type": "code",
   "execution_count": 14,
   "metadata": {},
   "outputs": [
    {
     "name": "stderr",
     "output_type": "stream",
     "text": [
      "/Users/yuehan/anaconda3/lib/python3.7/site-packages/numpy/lib/histograms.py:824: RuntimeWarning: invalid value encountered in greater_equal\n",
      "  keep = (tmp_a >= first_edge)\n",
      "/Users/yuehan/anaconda3/lib/python3.7/site-packages/numpy/lib/histograms.py:825: RuntimeWarning: invalid value encountered in less_equal\n",
      "  keep &= (tmp_a <= last_edge)\n"
     ]
    },
    {
     "data": {
      "text/plain": [
       "(array([1.91883e+05, 1.67631e+05, 2.28490e+04, 1.64400e+03, 3.49000e+02,\n",
       "        1.58000e+02, 2.06000e+02, 1.33000e+02, 6.00000e+01, 1.15000e+02]),\n",
       " array([      0.,  100000.,  200000.,  300000.,  400000.,  500000.,\n",
       "         600000.,  700000.,  800000.,  900000., 1000000.]),\n",
       " <a list of 10 Patch objects>)"
      ]
     },
     "execution_count": 14,
     "metadata": {},
     "output_type": "execute_result"
    },
    {
     "data": {
      "image/png": "[encoded data removed]",
      "text/plain": [
       "<Figure size 432x288 with 1 Axes>"
      ]
     },
     "metadata": {
      "needs_background": "light"
     },
     "output_type": "display_data"
    }
   ],
   "source": [
    "df=df.drop(df.index[df['odometer']>1e06])\n",
    "plt.hist(df[\"odometer\"])"
   ]
  },
  {
   "cell_type": "code",
   "execution_count": 15,
   "metadata": {},
   "outputs": [
    {
     "data": {
      "text/plain": [
       "<matplotlib.collections.PathCollection at 0x1a19eb1ba8>"
      ]
     },
     "execution_count": 15,
     "metadata": {},
     "output_type": "execute_result"
    },
    {
     "data": {
      "image/png": "[encoded data removed]",
      "text/plain": [
       "<Figure size 432x288 with 1 Axes>"
      ]
     },
     "metadata": {
      "needs_background": "light"
     },
     "output_type": "display_data"
    }
   ],
   "source": [
    "plt.scatter(df['odometer'],df['price'])"
   ]
  },
  {
   "cell_type": "markdown",
   "metadata": {},
   "source": [
    "## Cylinders"
   ]
  },
  {
   "cell_type": "code",
   "execution_count": 16,
   "metadata": {},
   "outputs": [
    {
     "data": {
      "text/plain": [
       "dtype('O')"
      ]
     },
     "execution_count": 16,
     "metadata": {},
     "output_type": "execute_result"
    }
   ],
   "source": [
    "df[\"cylinders\"].dtypes"
   ]
  },
  {
   "cell_type": "code",
   "execution_count": 17,
   "metadata": {},
   "outputs": [],
   "source": [
    "df[\"cylinders\"]=df[\"cylinders\"].str.split(\" \", n=1, expand = True)[0]\n",
    "df[\"cylinders\"]=df[\"cylinders\"].str.replace(\"other\",\"0\")\n",
    "df[\"cylinders\"].fillna(0,inplace=True)\n",
    "df['cylinders'] = df['cylinders'].astype(int)"
   ]
  },
  {
   "cell_type": "markdown",
   "metadata": {},
   "source": [
    "## State"
   ]
  },
  {
   "cell_type": "code",
   "execution_count": 18,
   "metadata": {},
   "outputs": [],
   "source": [
    "df[\"state\"]=df[\"city\"].str.split(\", \",n=1,expand=True)[1]"
   ]
  },
  {
   "cell_type": "code",
   "execution_count": 19,
   "metadata": {},
   "outputs": [
    {
     "data": {
      "text/plain": [
       "200746"
      ]
     },
     "execution_count": 19,
     "metadata": {},
     "output_type": "execute_result"
    }
   ],
   "source": [
    "df[\"state\"].isnull().sum()"
   ]
  },
  {
   "cell_type": "code",
   "execution_count": 20,
   "metadata": {},
   "outputs": [],
   "source": [
    "df[\"state_1\"]=df[\"city\"].str.rsplit(\" \", n=1, expand = True)[1]"
   ]
  },
  {
   "cell_type": "code",
   "execution_count": 21,
   "metadata": {},
   "outputs": [
    {
     "data": {
      "text/plain": [
       "array(['TX', 'GA', 'NY', None, 'IA', 'MD', 'MI', 'NC', 'OH', 'AL', 'CA',\n",
       "       'rouge', 'arthur', 'WA', 'MN', 'MT', 'ND', 'IN', 'CO', 'KY',\n",
       "       'islands', 'louisiana', 'michigan', 'urbana', 'SC', 'WV', 'VA',\n",
       "       'TN', 'portales', 'city', 'valley', 'beach', 'springfield', 'IL',\n",
       "       'texas', 'pass', 'superior', 'CT', 'kentucky', 'montana',\n",
       "       'panhandle', 'shore', 'idaho', 'oregon', 'WI', 'NV', 'PA', 'AK',\n",
       "       'moorhead', 'NM', 'AR', 'sedona', 'shoals', 'keys', 'FL',\n",
       "       'country', 'forks', 'NE', 'biloxi', 'MS', 'florida', 'lenoir',\n",
       "       'rockies', 'head', 'LA', 'county', 'decatur', 'MO', 'peninsula',\n",
       "       'hood', 'OR', 'lafayette', 'ozarks', 'co', 'KS', 'OK', 'clarkston',\n",
       "       'findlay', 'rock', 'UT', 'robins', 'edinburg', 'bay', 'anderson',\n",
       "       'orleans', 'dakota', 'SD', 'mississippi', 'midland', 'walton',\n",
       "       'coast', 'banks', 'AZ', 'orem', 'moscow', 'IA/IL', 'carlsbad',\n",
       "       'obispo', 'barbara', 'taos', 'hinesville', 'wilkes-barre', 'SJI',\n",
       "       'michiana', 'MA', 'alaska', 'missouri', 'illinois', 'maryland',\n",
       "       'joseph', 'ID', 'NY/PA', 'falls', 'massachusetts', 'slope',\n",
       "       '(old)', 'cambridge', 'canton', 'mat-su', 'NJ', 'springs', 'worth',\n",
       "       'metro', 'madera', 'upstate', 'vegas', 'angeles', 'paul',\n",
       "       'hampshire', 'roads', 'jersey', 'bluffs', 'CH', 'tahoe', 'island',\n",
       "       'antonio', 'diego', 'area', \"d'alene\", 'DC'], dtype=object)"
      ]
     },
     "execution_count": 21,
     "metadata": {},
     "output_type": "execute_result"
    }
   ],
   "source": [
    "df[\"state_1\"].unique()"
   ]
  },
  {
   "cell_type": "code",
   "execution_count": 22,
   "metadata": {},
   "outputs": [],
   "source": [
    "state_dict=pd.read_csv(\"State_abbr.csv\")\n",
    "state_dict.State=state_dict.State.str.lower()\n",
    "df=df.merge(state_dict,left_on='state_1',right_on='State',how=\"left\")\n",
    "combine_state = lambda s1, s2: s1 if s1 !=None else s2\n",
    "df[\"state\"]=df[\"state\"].combine(df[\"Abbreviation\"],combine_state)\n",
    "df=df.drop(columns=['state_1','State','Abbreviation'])"
   ]
  },
  {
   "cell_type": "code",
   "execution_count": 23,
   "metadata": {},
   "outputs": [
    {
     "data": {
      "text/plain": [
       "184951"
      ]
     },
     "execution_count": 23,
     "metadata": {},
     "output_type": "execute_result"
    }
   ],
   "source": [
    "df[\"state\"].isnull().sum()"
   ]
  },
  {
   "cell_type": "code",
   "execution_count": 24,
   "metadata": {},
   "outputs": [],
   "source": [
    "df.to_csv(\"clean_data.csv\")"
   ]
  },
  {
   "cell_type": "code",
   "execution_count": null,
   "metadata": {},
   "outputs": [],
   "source": []
  }
 ],
 "metadata": {
  "kernelspec": {
   "display_name": "Python 3",
   "language": "python",
   "name": "python3"
  },
  "language_info": {
   "codemirror_mode": {
    "name": "ipython",
    "version": 3
   },
   "file_extension": ".py",
   "mimetype": "text/x-python",
   "name": "python",
   "nbconvert_exporter": "python",
   "pygments_lexer": "ipython3",
   "version": "3.7.3"
  }
 },
 "nbformat": 4,
 "nbformat_minor": 2
}
